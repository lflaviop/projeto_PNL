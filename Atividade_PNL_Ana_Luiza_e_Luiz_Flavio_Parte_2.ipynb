{
  "nbformat": 4,
  "nbformat_minor": 0,
  "metadata": {
    "colab": {
      "name": "Atividade PNL - Ana Luiza e Luiz Flavio - Parte 2.ipynb",
      "provenance": [],
      "collapsed_sections": []
    },
    "kernelspec": {
      "name": "python3",
      "display_name": "Python 3"
    },
    "language_info": {
      "name": "python"
    }
  },
  "cells": [
    {
      "cell_type": "markdown",
      "metadata": {
        "id": "8LDt4FHhmKCh"
      },
      "source": [
        "# **_Atividade de Programação Natural de Linguagem (PNL) - Parte 2_**\n",
        "### **_Alunos:_** Ana Luiza F. Gouveia, Luiz Flavio Pereira\n",
        "_____________________________________"
      ]
    },
    {
      "cell_type": "markdown",
      "metadata": {
        "id": "lqP2KvE0m-nq"
      },
      "source": [
        "Análise do dataset _Emotion Dataset for NLP_, disponível em https://www.kaggle.com/praveengovi/emotions-dataset-for-nlp, traduzido para português.\n",
        "\n",
        "O dataset original em inglês foi traduzido de forma online para português, através do Google Translate, a fim de ser possível a análise e comparação das técnicas de PNL entre diferentes idiomas.\n",
        "\n",
        "O presente trabalho possui por objetivo efetuar a análise do dataset através das técnicas de Análise de PNL associadas às técnicas de _Machine Learning_, com o intuito de tornar possível a identificação do sentimento implícito em um texto _inputado_ por um usuário.\n",
        "_______________________________________"
      ]
    },
    {
      "cell_type": "code",
      "metadata": {
        "id": "L3ZJLK_KyllG",
        "colab": {
          "base_uri": "https://localhost:8080/"
        },
        "outputId": "91259d9a-e540-4769-c0c7-a780beee963c"
      },
      "source": [
        "# Importação das bibliotecas necessárias à execução do programa\n",
        "\n",
        "import pandas as pd\n",
        "import numpy as np\n",
        "import matplotlib.pyplot as plt\n",
        "import seaborn as sns\n",
        "import string\n",
        "\n",
        "sns.set()\n",
        "\n",
        "import nltk\n",
        "from nltk.tokenize import word_tokenize  \n",
        "from nltk.corpus import stopwords\n",
        "\n",
        "!pip install unidecode\n",
        "import unidecode\n",
        "\n",
        "from sklearn.feature_extraction.text import CountVectorizer\n",
        "from sklearn.feature_extraction.text import TfidfVectorizer\n",
        "from sklearn.preprocessing import OrdinalEncoder\n",
        "from sklearn.model_selection import train_test_split\n",
        "from sklearn.metrics import accuracy_score, confusion_matrix, f1_score\n",
        "\n",
        "from sklearn.linear_model import LogisticRegression\n",
        "from sklearn.tree import DecisionTreeClassifier\n",
        "from sklearn.svm import SVC\n",
        "from sklearn.ensemble import RandomForestClassifier\n",
        "from sklearn.neighbors import KNeighborsClassifier\n",
        "from sklearn.naive_bayes import MultinomialNB\n",
        "\n",
        "RANDOM_STATE = 42"
      ],
      "execution_count": null,
      "outputs": [
        {
          "output_type": "stream",
          "text": [
            "Requirement already satisfied: unidecode in /usr/local/lib/python3.7/dist-packages (1.2.0)\n"
          ],
          "name": "stdout"
        }
      ]
    },
    {
      "cell_type": "code",
      "metadata": {
        "colab": {
          "base_uri": "https://localhost:8080/"
        },
        "id": "cI8hc62fOhkY",
        "outputId": "96a5e1be-15e5-439c-9076-5272b4b00f88"
      },
      "source": [
        "# Download da base de dados do stopwords da biblioteca NLTK para Português\n",
        "\n",
        "nltk.download('stopwords')\n",
        "stop_words = set(stopwords.words('portuguese'))\n",
        "print('\\nLista de stopwords em português: ')\n",
        "print(stop_words)"
      ],
      "execution_count": null,
      "outputs": [
        {
          "output_type": "stream",
          "text": [
            "[nltk_data] Downloading package stopwords to /root/nltk_data...\n",
            "[nltk_data]   Package stopwords is already up-to-date!\n",
            "\n",
            "Lista de stopwords em português: \n",
            "{'houveram', 'hão', 'aquelas', 'nos', 'havemos', 'teus', 'nós', 'por', 'qual', 'aquele', 'sejamos', 'tive', 'tiveram', 'houverei', 'houvéssemos', 'estivera', 'foi', 'como', 'tenhamos', 'tivera', 'era', 'nossas', 'essa', 'e', 'nem', 'numa', 'estivesse', 'tivesse', 'este', 'essas', 'estivessem', 'há', 'mesmo', 'houveria', 'quando', 'entre', 'de', 'depois', 'também', 'suas', 'tivéssemos', 'ao', 'houvesse', 'nas', 'às', 'estiveram', 'houveremos', 'tinha', 'terá', 'tinham', 'esse', 'tua', 'pelo', 'estavam', 'se', 'houverá', 'serão', 'das', 'já', 'forem', 'esses', 'estas', 'nosso', 'estejam', 'estivermos', 'seriam', 'lhes', 'aquela', 'tém', 'sua', 'será', 'mas', 'ou', 'com', 'hajamos', 'seja', 'tivemos', 'em', 'quem', 'sem', 'minha', 'estávamos', 'dos', 'for', 'temos', 'seria', 'nossos', 'fui', 'vocês', 'fosse', 'tu', 'estes', 'houvermos', 'houvessem', 'seus', 'serei', 'teria', 'houve', 'na', 'tivermos', 'fomos', 'fôramos', 'para', 'tem', 'tenho', 'tenham', 'dela', 'eu', 'estamos', 'fora', 'seríamos', 'estava', 'estivéramos', 'houvéramos', 'esteja', 'teremos', 'minhas', 'tiverem', 'do', 'uma', 'da', 'tivéramos', 'terão', 'teriam', 'não', 'vos', 'estiverem', 'fossem', 'à', 'esteve', 'hajam', 'te', 'teu', 'a', 'estive', 'formos', 'foram', 'teve', 'só', 'isto', 'seu', 'estou', 'estejamos', 'lhe', 'elas', 'são', 'ela', 'sou', 'eles', 'houveríamos', 'haja', 'está', 'as', 'até', 'é', 'terei', 'num', 'pelas', 'delas', 'estivéssemos', 'fôssemos', 'estiver', 'aos', 'aquilo', 'houverem', 'muito', 'somos', 'pela', 'que', 'os', 'sejam', 'houvemos', 'um', 'pelos', 'houveriam', 'meus', 'esta', 'meu', 'éramos', 'aqueles', 'me', 'no', 'isso', 'estão', 'teríamos', 'tuas', 'eram', 'tiver', 'tivessem', 'o', 'nossa', 'deles', 'hei', 'tínhamos', 'seremos', 'houver', 'estivemos', 'você', 'dele', 'houvera', 'mais', 'houverão', 'ele', 'tenha'}\n"
          ],
          "name": "stdout"
        }
      ]
    },
    {
      "cell_type": "code",
      "metadata": {
        "id": "TeDuE3kPIQfZ"
      },
      "source": [
        "# Função para tratamento do texto para possibilitar a entrada no algoritmo de Machine Learning.\n",
        "\n",
        "def text_process(original_sentences):\n",
        "\n",
        "    # Minimização dos caracteres, a fim de se evitar a diferenciação pelo algoritmo entre letras maiúsculas e minúsculas.\n",
        "    original_sentences = original_sentences.lower()\n",
        "    \n",
        "    # Remoção da pontuação e reagrupamento da string de texto.\n",
        "    processing = [char for char in original_sentences if char not in string.punctuation]\n",
        "    processing = ''.join(processing)\n",
        "\n",
        "    # Remoção dos stopwords das frases e reagrupamento da string de texto.\n",
        "    processing = [word for word in processing.split() if word not in stop_words]\n",
        "    processing = ' '.join(processing)\n",
        "\n",
        "    # Remoção da acentuação das palavras do texto.\n",
        "    word_seq = unidecode.unidecode(processing)\n",
        "\n",
        "    return word_seq"
      ],
      "execution_count": null,
      "outputs": []
    },
    {
      "cell_type": "code",
      "metadata": {
        "id": "2uLNZlgypMDN"
      },
      "source": [
        "# Função para exibição das métricas de medição de desempenho do algoritmo, de acordo com o resultado predito e o verdadeiro.\n",
        "# Devido às características do texto, duas métricas se mostraram mais adequadas à análise, sendo elas a acurácia e o F1-score.\n",
        "\n",
        "def mostra_metricas(y_true, y_pred):\n",
        "    print(\"Acurácia: \", accuracy_score(y_true, y_pred))\n",
        "    print(\"F1-Score:\", f1_score(y_true, y_pred, average='weighted'))"
      ],
      "execution_count": null,
      "outputs": []
    },
    {
      "cell_type": "code",
      "metadata": {
        "id": "X8tpYArvfzCx"
      },
      "source": [
        "# Função para plotagem da Matriz de Confusão para comparação dos modelos.\n",
        "# A função plota duas matrizes, uma para o modelo Bag of Words (BoW) e outra para o modelo Term Frequency – Inverse Document Frequency (TF-IDF)\n",
        "\n",
        "def print_confusion_matrix(y_test1, y_pred1, y_test2, y_pred2):\n",
        "    print(\"\\nMatriz de confusão:\")\n",
        "\n",
        "    fig = plt.figure(figsize=(15,5))\n",
        "    plt.subplots_adjust(wspace=0.25, hspace=0.05)\n",
        "    plt.suptitle('Comparativo entre os vetorizadores BoW e TF-IDF')\n",
        "\n",
        "    plt.subplot(1, 2, 1)\n",
        "    sns.heatmap(confusion_matrix(y_test1, y_pred1), annot=True, cbar=False, fmt='d', xticklabels=nomes, yticklabels=nomes)\n",
        "    plt.title('BoW')\n",
        "    plt.xticks(rotation=90)\n",
        "    plt.yticks(rotation=0)\n",
        "\n",
        "    plt.subplot(1, 2, 2)\n",
        "    sns.heatmap(confusion_matrix(y_test2, y_pred2), annot=True, cbar=False, fmt='d', xticklabels=nomes, yticklabels=nomes)\n",
        "    plt.title('TF-IDF')\n",
        "    plt.xticks(rotation=90)\n",
        "    plt.yticks(rotation=0) \n",
        "\n",
        "    plt.show()\n",
        "\n",
        "    return"
      ],
      "execution_count": null,
      "outputs": []
    },
    {
      "cell_type": "code",
      "metadata": {
        "id": "lfqaDALmy0UD"
      },
      "source": [
        "# Nomes das colunas do Dataframe\n",
        "columns = ['texto', 'emocao']"
      ],
      "execution_count": null,
      "outputs": []
    },
    {
      "cell_type": "code",
      "metadata": {
        "id": "KqKX6uujy4ah"
      },
      "source": [
        "# Importação do dataframe dos arquivos de texto do dataset\n",
        "\n",
        "train_df = pd.read_csv('train_pt.txt', delimiter=';', header=None, names=columns)\n",
        "test_df = pd.read_csv('test_pt.txt', delimiter=';', header=None, names=columns)\n",
        "val_df = pd.read_csv('val_pt.txt', delimiter=';', header=None, names=columns)"
      ],
      "execution_count": null,
      "outputs": []
    },
    {
      "cell_type": "code",
      "metadata": {
        "id": "zuCP2nYantK4",
        "colab": {
          "base_uri": "https://localhost:8080/"
        },
        "outputId": "9c675cf9-d9d3-41fd-c28f-c01fd97cf9e7"
      },
      "source": [
        "# Devido ao fato do dataset ter sido disponibilizado em três arquivos separados, foi-se optado por uní-los e dividir o dataframe completo em duas partes: treino e teste.\n",
        "# Essa escolha veio do fato dos arquivos de teste e validação não estarem categorizados de forma homogênea, podendo induzir o algoritmo a erros.\n",
        "\n",
        "emotion_df = pd.concat([train_df, test_df, val_df])\n",
        "print(f'O dataset emotion_df tem {emotion_df.shape[0]} linhas e {emotion_df.shape[1]} colunas.')"
      ],
      "execution_count": null,
      "outputs": [
        {
          "output_type": "stream",
          "text": [
            "O dataset emotion_df tem 20000 linhas e 2 colunas.\n"
          ],
          "name": "stdout"
        }
      ]
    },
    {
      "cell_type": "code",
      "metadata": {
        "colab": {
          "base_uri": "https://localhost:8080/"
        },
        "id": "MgUEDVHXwR5S",
        "outputId": "b670a5dd-315b-4260-b423-49406471351f"
      },
      "source": [
        "# Script para identificação de entradas duplicadas.\n",
        "\n",
        "repetidos = round(sum(emotion_df.duplicated(\"texto\")))\n",
        "print(f\"O dataset possui {repetidos} entradas de texto duplicadas.\")"
      ],
      "execution_count": null,
      "outputs": [
        {
          "output_type": "stream",
          "text": [
            "O dataset possui 75 entradas de texto duplicadas.\n"
          ],
          "name": "stdout"
        }
      ]
    },
    {
      "cell_type": "code",
      "metadata": {
        "colab": {
          "base_uri": "https://localhost:8080/",
          "height": 419
        },
        "id": "ebST5uXwwkTO",
        "outputId": "c2646f5e-747d-496a-894f-3cba021a6d81"
      },
      "source": [
        "# Exibição dos textos duplicados\n",
        "\n",
        "emotion_df[emotion_df.duplicated(\"texto\", keep =  False)].sort_values(by = \"texto\")"
      ],
      "execution_count": null,
      "outputs": [
        {
          "output_type": "execute_result",
          "data": {
            "text/html": [
              "<div>\n",
              "<style scoped>\n",
              "    .dataframe tbody tr th:only-of-type {\n",
              "        vertical-align: middle;\n",
              "    }\n",
              "\n",
              "    .dataframe tbody tr th {\n",
              "        vertical-align: top;\n",
              "    }\n",
              "\n",
              "    .dataframe thead th {\n",
              "        text-align: right;\n",
              "    }\n",
              "</style>\n",
              "<table border=\"1\" class=\"dataframe\">\n",
              "  <thead>\n",
              "    <tr style=\"text-align: right;\">\n",
              "      <th></th>\n",
              "      <th>texto</th>\n",
              "      <th>emocao</th>\n",
              "    </tr>\n",
              "  </thead>\n",
              "  <tbody>\n",
              "    <tr>\n",
              "      <th>2949</th>\n",
              "      <td>Afasto-me de canções que falam sobre como me s...</td>\n",
              "      <td>amor</td>\n",
              "    </tr>\n",
              "    <tr>\n",
              "      <th>15329</th>\n",
              "      <td>Afasto-me de canções que falam sobre como me s...</td>\n",
              "      <td>alegria</td>\n",
              "    </tr>\n",
              "    <tr>\n",
              "      <th>8804</th>\n",
              "      <td>Aposto que Taylor Swift se deleita sabendo que...</td>\n",
              "      <td>medo</td>\n",
              "    </tr>\n",
              "    <tr>\n",
              "      <th>15572</th>\n",
              "      <td>Aposto que Taylor Swift se deleita sabendo que...</td>\n",
              "      <td>raiva</td>\n",
              "    </tr>\n",
              "    <tr>\n",
              "      <th>7685</th>\n",
              "      <td>Eu ainda não tenho certeza por que Reilly sent...</td>\n",
              "      <td>surpresa</td>\n",
              "    </tr>\n",
              "    <tr>\n",
              "      <th>...</th>\n",
              "      <td>...</td>\n",
              "      <td>...</td>\n",
              "    </tr>\n",
              "    <tr>\n",
              "      <th>8557</th>\n",
              "      <td>me sinto meio estranho</td>\n",
              "      <td>medo</td>\n",
              "    </tr>\n",
              "    <tr>\n",
              "      <th>6034</th>\n",
              "      <td>não realizei uma pesquisa, mas é bastante prov...</td>\n",
              "      <td>medo</td>\n",
              "    </tr>\n",
              "    <tr>\n",
              "      <th>1026</th>\n",
              "      <td>não realizei uma pesquisa, mas é bastante prov...</td>\n",
              "      <td>tristeza</td>\n",
              "    </tr>\n",
              "    <tr>\n",
              "      <th>917</th>\n",
              "      <td>sinto a necessidade de tornar isso desde raini...</td>\n",
              "      <td>alegria</td>\n",
              "    </tr>\n",
              "    <tr>\n",
              "      <th>7645</th>\n",
              "      <td>sinto a necessidade de tornar isso desde raini...</td>\n",
              "      <td>amor</td>\n",
              "    </tr>\n",
              "  </tbody>\n",
              "</table>\n",
              "<p>149 rows × 2 columns</p>\n",
              "</div>"
            ],
            "text/plain": [
              "                                                   texto    emocao\n",
              "2949   Afasto-me de canções que falam sobre como me s...      amor\n",
              "15329  Afasto-me de canções que falam sobre como me s...   alegria\n",
              "8804   Aposto que Taylor Swift se deleita sabendo que...      medo\n",
              "15572  Aposto que Taylor Swift se deleita sabendo que...     raiva\n",
              "7685   Eu ainda não tenho certeza por que Reilly sent...  surpresa\n",
              "...                                                  ...       ...\n",
              "8557                              me sinto meio estranho      medo\n",
              "6034   não realizei uma pesquisa, mas é bastante prov...      medo\n",
              "1026   não realizei uma pesquisa, mas é bastante prov...  tristeza\n",
              "917    sinto a necessidade de tornar isso desde raini...   alegria\n",
              "7645   sinto a necessidade de tornar isso desde raini...      amor\n",
              "\n",
              "[149 rows x 2 columns]"
            ]
          },
          "metadata": {
            "tags": []
          },
          "execution_count": 10
        }
      ]
    },
    {
      "cell_type": "code",
      "metadata": {
        "id": "0MDEa0ZwxCa_",
        "colab": {
          "base_uri": "https://localhost:8080/"
        },
        "outputId": "f3b5aeef-1f29-4adb-a18f-5033e895002a"
      },
      "source": [
        "# Remoção dos textos duplicados e confirmação da limpeza\n",
        "\n",
        "emotion_df.drop_duplicates(\"texto\", inplace = True)\n",
        "\n",
        "repetidos = round(sum(emotion_df.duplicated(\"texto\")))\n",
        "print(f\"O dataset possui {repetidos} entradas de texto duplicadas.\")"
      ],
      "execution_count": null,
      "outputs": [
        {
          "output_type": "stream",
          "text": [
            "O dataset possui 0 entradas de texto duplicadas.\n"
          ],
          "name": "stdout"
        }
      ]
    },
    {
      "cell_type": "code",
      "metadata": {
        "colab": {
          "base_uri": "https://localhost:8080/"
        },
        "id": "yaxtSJfy_FUn",
        "outputId": "a7fc00d5-9bcc-4db9-e481-e7eb5e8ee84e"
      },
      "source": [
        "# Contagem da distribuição das categorias de sentimentos\n",
        "\n",
        "emotion_df['emocao'].value_counts()"
      ],
      "execution_count": null,
      "outputs": [
        {
          "output_type": "execute_result",
          "data": {
            "text/plain": [
              "alegria     6737\n",
              "tristeza    5782\n",
              "raiva       2698\n",
              "medo        2366\n",
              "amor        1629\n",
              "surpresa     713\n",
              "Name: emocao, dtype: int64"
            ]
          },
          "metadata": {
            "tags": []
          },
          "execution_count": 12
        }
      ]
    },
    {
      "cell_type": "code",
      "metadata": {
        "colab": {
          "base_uri": "https://localhost:8080/"
        },
        "id": "mkbkzfnltwyZ",
        "outputId": "937dbcb2-cfa5-4090-8ce7-c3482379b363"
      },
      "source": [
        "print(f'O dataset emotion_df tem {emotion_df.shape[0]} linhas e {emotion_df.shape[1]} colunas.')"
      ],
      "execution_count": null,
      "outputs": [
        {
          "output_type": "stream",
          "text": [
            "O dataset emotion_df tem 19925 linhas e 2 colunas.\n"
          ],
          "name": "stdout"
        }
      ]
    },
    {
      "cell_type": "code",
      "metadata": {
        "colab": {
          "base_uri": "https://localhost:8080/",
          "height": 429
        },
        "id": "DFiDC2gG-AMk",
        "outputId": "bd61afba-34e3-4dd2-bbab-d58f0063e591"
      },
      "source": [
        "# Gráfico da distribuição das categorias\n",
        "\n",
        "_ = fig = plt.figure(figsize=(8,5))\n",
        "_ = plt.suptitle('Distribuição dos sentimentos pelo dataset', fontsize=14)\n",
        "_ = sns.countplot(emotion_df['emocao'])"
      ],
      "execution_count": null,
      "outputs": [
        {
          "output_type": "stream",
          "text": [
            "/usr/local/lib/python3.7/dist-packages/seaborn/_decorators.py:43: FutureWarning: Pass the following variable as a keyword arg: x. From version 0.12, the only valid positional argument will be `data`, and passing other arguments without an explicit keyword will result in an error or misinterpretation.\n",
            "  FutureWarning\n"
          ],
          "name": "stderr"
        },
        {
          "output_type": "display_data",
          "data": {
            "image/png": "[encoded data removed]",
            "text/plain": [
              "<Figure size 576x360 with 1 Axes>"
            ]
          },
          "metadata": {
            "tags": [],
            "needs_background": "light"
          }
        }
      ]
    },
    {
      "cell_type": "code",
      "metadata": {
        "colab": {
          "base_uri": "https://localhost:8080/"
        },
        "id": "0y9JaN0b9j2u",
        "outputId": "569d830c-0a98-45ef-817b-6abfedaddedd"
      },
      "source": [
        "# Distribuição percentual das categorias\n",
        "\n",
        "perc = round((emotion_df['emocao'].value_counts()*100) / len(emotion_df['emocao']), 2)\n",
        "perc"
      ],
      "execution_count": null,
      "outputs": [
        {
          "output_type": "execute_result",
          "data": {
            "text/plain": [
              "alegria     33.81\n",
              "tristeza    29.02\n",
              "raiva       13.54\n",
              "medo        11.87\n",
              "amor         8.18\n",
              "surpresa     3.58\n",
              "Name: emocao, dtype: float64"
            ]
          },
          "metadata": {
            "tags": []
          },
          "execution_count": 15
        }
      ]
    },
    {
      "cell_type": "code",
      "metadata": {
        "colab": {
          "base_uri": "https://localhost:8080/"
        },
        "id": "MOjObpcP89kc",
        "outputId": "e3a5215a-32da-40b5-d8cb-b88de96097b1"
      },
      "source": [
        "# Primeiras dez linhas do dataframe inalterado\n",
        "\n",
        "print(emotion_df.head(10))"
      ],
      "execution_count": null,
      "outputs": [
        {
          "output_type": "stream",
          "text": [
            "                                               texto    emocao\n",
            "0                          eu não me senti humilhado  tristeza\n",
            "1  Eu posso passar de um sentimento de desesperan...  tristeza\n",
            "2  estou pegando um minuto para postar me sinto g...     raiva\n",
            "3  Estou sempre com saudades da lareira, saberei ...      amor\n",
            "4                     estou me sentindo mal-humorado     raiva\n",
            "5  Eu tenho me sentido um pouco sobrecarregado ul...  tristeza\n",
            "6  Tenho tomado ou miligramas ou vezes a quantida...  surpresa\n",
            "7  Eu me sinto tão confuso sobre a vida como um a...      medo\n",
            "8  Estou com a Petronas há anos e sinto que a Pet...   alegria\n",
            "9                          também me sinto romântico      amor\n"
          ],
          "name": "stdout"
        }
      ]
    },
    {
      "cell_type": "code",
      "metadata": {
        "id": "8c9SK50BJHpr",
        "colab": {
          "base_uri": "https://localhost:8080/"
        },
        "outputId": "675bbf1d-8263-4c2c-f32b-c2822714c7ce"
      },
      "source": [
        "# Aplicação da função de transformação do texto na coluna de texto e impressão das dez primeiras linhas da dataset alterado\n",
        "\n",
        "processed_text = emotion_df['texto'].apply(text_process)\n",
        "processed_text.head(10)"
      ],
      "execution_count": null,
      "outputs": [
        {
          "output_type": "execute_result",
          "data": {
            "text/plain": [
              "0                                      senti humilhado\n",
              "1    posso passar sentimento desesperanca maldita e...\n",
              "2        pegando minuto postar sinto ganancioso errado\n",
              "3    sempre saudades lareira saberei ainda propriedade\n",
              "4                                 sentindo malhumorado\n",
              "5    sentido pouco sobrecarregado ultimamente certe...\n",
              "6    tomado miligramas vezes quantidade recomendada...\n",
              "7    sinto tao confuso sobre vida adolescente tao c...\n",
              "8    petronas anos sinto petronas bom desempenho lu...\n",
              "9                                      sinto romantico\n",
              "Name: texto, dtype: object"
            ]
          },
          "metadata": {
            "tags": []
          },
          "execution_count": 17
        }
      ]
    },
    {
      "cell_type": "code",
      "metadata": {
        "id": "mtq2t6gwi2e6",
        "colab": {
          "base_uri": "https://localhost:8080/"
        },
        "outputId": "8f679deb-f666-4732-9544-d631a8d1ef59"
      },
      "source": [
        "# Transformação das categorias em valores numéricos para entrada no algoritmo de Machine Learning\n",
        "\n",
        "ordinal_encoder = OrdinalEncoder()\n",
        "ord_encoder_emotion = ordinal_encoder.fit_transform(emotion_df[['emocao']])\n",
        "ordinal_encoder.categories_"
      ],
      "execution_count": null,
      "outputs": [
        {
          "output_type": "execute_result",
          "data": {
            "text/plain": [
              "[array(['alegria', 'amor', 'medo', 'raiva', 'surpresa', 'tristeza'],\n",
              "       dtype=object)]"
            ]
          },
          "metadata": {
            "tags": []
          },
          "execution_count": 18
        }
      ]
    },
    {
      "cell_type": "code",
      "metadata": {
        "id": "484gWCp8oOR5"
      },
      "source": [
        "# Extração dos nomes das categorias na ordem do Encoder para possibilitar a identificação coreta na Matrix de Confusão\n",
        "\n",
        "nomes = ['alegria', 'amor', 'medo', 'raiva', 'surpresa', 'tristeza']"
      ],
      "execution_count": null,
      "outputs": []
    },
    {
      "cell_type": "code",
      "metadata": {
        "id": "07E0q-E3J3NT",
        "colab": {
          "base_uri": "https://localhost:8080/"
        },
        "outputId": "5b59f1ea-dd60-40cb-c57c-342f493b0ac2"
      },
      "source": [
        "# Instanciação do vetorizador do Bag of Words. Foi-se optado pela classificação binária dos tokens, mínimo de duas palavras e máximo e ocorrência máxima de 85%\n",
        "\n",
        "text = processed_text\n",
        "\n",
        "vectorizer = CountVectorizer(binary=True, min_df=2, max_df=0.85)\n",
        "X_bow = vectorizer.fit_transform(text)\n",
        "X_bow.toarray()\n",
        "print(f'A matriz BoW tem {X_bow.shape[0]} linhas por {X_bow.shape[1]} colunas e eh do tipo {type(X_bow)}')"
      ],
      "execution_count": null,
      "outputs": [
        {
          "output_type": "stream",
          "text": [
            "A matriz BoW tem 19925 linhas por 9508 colunas e eh do tipo <class 'scipy.sparse.csr.csr_matrix'>\n"
          ],
          "name": "stdout"
        }
      ]
    },
    {
      "cell_type": "code",
      "metadata": {
        "id": "PKDJ44S3oJux",
        "colab": {
          "base_uri": "https://localhost:8080/"
        },
        "outputId": "69bb9c14-27d1-4d05-f2ff-7ed10af98125"
      },
      "source": [
        "# Instanciação do vetorizador do TF-IDF. Foi-se optado pelo mínimo de duas palavras e ocorrência máxima de 85%\n",
        "\n",
        "tfidf_vect = TfidfVectorizer(min_df=2, max_df=0.85)\n",
        "X_tfidf = tfidf_vect.fit_transform(text)\n",
        "print(f'A matriz TF-IDF tem {X_tfidf.shape[0]} linhas por {X_tfidf.shape[1]} colunas e eh do tipo {type(X_tfidf.shape)}')"
      ],
      "execution_count": null,
      "outputs": [
        {
          "output_type": "stream",
          "text": [
            "A matriz TF-IDF tem 19925 linhas por 9508 colunas e eh do tipo <class 'tuple'>\n"
          ],
          "name": "stdout"
        }
      ]
    },
    {
      "cell_type": "code",
      "metadata": {
        "id": "rYggggHroR40"
      },
      "source": [
        "# Sepearação do dataframe em sets de treino e teste.\n",
        "# X1 e y1 se referem ao vetorizados BoW. X2 e y2 se referem ao vetorizador TF-IDF\n",
        "\n",
        "X1_train, X1_test, y1_train, y1_test = train_test_split(X_bow, ord_encoder_emotion, test_size=0.2, random_state=RANDOM_STATE, stratify=ord_encoder_emotion)\n",
        "X2_train, X2_test, y2_train, y2_test = train_test_split(X_tfidf, ord_encoder_emotion, test_size=0.2, random_state=RANDOM_STATE, stratify=ord_encoder_emotion)\n",
        "\n",
        "y1_train = y1_train.ravel()\n",
        "y2_train = y2_train.ravel()"
      ],
      "execution_count": null,
      "outputs": []
    },
    {
      "cell_type": "code",
      "metadata": {
        "colab": {
          "base_uri": "https://localhost:8080/"
        },
        "id": "XiWWKzSrJfea",
        "outputId": "62400647-abe5-4849-dabb-a3e6b371e428"
      },
      "source": [
        "print(f'O dataset de treino possui {X1_train.shape[0]} linhas e o de teste {X1_test.shape[0]} linhas.')"
      ],
      "execution_count": null,
      "outputs": [
        {
          "output_type": "stream",
          "text": [
            "O dataset de treino possui 15940 linhas e o de teste 3985 linhas.\n"
          ],
          "name": "stdout"
        }
      ]
    },
    {
      "cell_type": "code",
      "metadata": {
        "colab": {
          "base_uri": "https://localhost:8080/",
          "height": 549
        },
        "id": "87Zk7Gz1pQ6l",
        "outputId": "cb15b65e-f4f7-42ef-9483-6e7b3558041b"
      },
      "source": [
        "# Aplicação do algoritmo de Machine Learning Logistic Regression para o BoW e para o TF-IDF\n",
        "\n",
        "print('Metricas para BoW:')\n",
        "reglog = LogisticRegression(max_iter=1000, fit_intercept=True)\n",
        "reglog.fit(X1_train, y1_train)\n",
        "y1_pred = reglog.predict(X1_test)\n",
        "y_reglog = y1_pred\n",
        "mostra_metricas(y1_test, y1_pred)\n",
        "\n",
        "print('\\nMetricas para TF-IDF:')\n",
        "reglog.fit(X2_train, y2_train)\n",
        "y2_pred = reglog.predict(X2_test)\n",
        "mostra_metricas(y2_test, y2_pred)\n",
        "\n",
        "print_confusion_matrix(y1_test, y1_pred, y2_test, y2_pred)"
      ],
      "execution_count": null,
      "outputs": [
        {
          "output_type": "stream",
          "text": [
            "Metricas para BoW:\n",
            "Acurácia:  0.7894604767879548\n",
            "F1-Score: 0.7854355822990111\n",
            "\n",
            "Metricas para TF-IDF:\n",
            "Acurácia:  0.7575909661229611\n",
            "F1-Score: 0.7452364883044499\n",
            "\n",
            "Matriz de confusão:\n"
          ],
          "name": "stdout"
        },
        {
          "output_type": "display_data",
          "data": {
            "image/png": "[encoded data removed]",
            "text/plain": [
              "<Figure size 1080x360 with 2 Axes>"
            ]
          },
          "metadata": {
            "tags": [],
            "needs_background": "light"
          }
        }
      ]
    },
    {
      "cell_type": "code",
      "metadata": {
        "id": "pdarfwTPxlIh",
        "colab": {
          "base_uri": "https://localhost:8080/",
          "height": 549
        },
        "outputId": "7e3b908b-51a0-4eb2-e8c7-27676f7a1e8b"
      },
      "source": [
        "# Aplicação do algoritmo de Machine Learning Random Forest para o BoW e para o TF-IDF\n",
        "\n",
        "print('Metricas para BoW:')\n",
        "rf = RandomForestClassifier()\n",
        "rf.fit(X1_train, y1_train)\n",
        "y1_pred = rf.predict(X1_test)\n",
        "y_rf = y1_pred\n",
        "mostra_metricas(y1_test, y1_pred)\n",
        "\n",
        "print('\\nMetricas para TF-IDF:')\n",
        "rf.fit(X2_train, y2_train)\n",
        "y2_pred = rf.predict(X2_test)\n",
        "mostra_metricas(y2_test, y2_pred)\n",
        "\n",
        "print_confusion_matrix(y1_test, y1_pred, y2_test, y2_pred)"
      ],
      "execution_count": null,
      "outputs": [
        {
          "output_type": "stream",
          "text": [
            "Metricas para BoW:\n",
            "Acurácia:  0.7570890840652447\n",
            "F1-Score: 0.7530526071865205\n",
            "\n",
            "Metricas para TF-IDF:\n",
            "Acurácia:  0.7525721455457968\n",
            "F1-Score: 0.7462831771860781\n",
            "\n",
            "Matriz de confusão:\n"
          ],
          "name": "stdout"
        },
        {
          "output_type": "display_data",
          "data": {
            "image/png": "[encoded data removed]",
            "text/plain": [
              "<Figure size 1080x360 with 2 Axes>"
            ]
          },
          "metadata": {
            "tags": [],
            "needs_background": "light"
          }
        }
      ]
    },
    {
      "cell_type": "code",
      "metadata": {
        "id": "lHtge3PuBGti"
      },
      "source": [
        ""
      ],
      "execution_count": null,
      "outputs": []
    },
    {
      "cell_type": "markdown",
      "metadata": {
        "id": "v2PVrmXXwaT5"
      },
      "source": [
        "Os algoritmos de Machine Learning abaixo foram testados e retornaram resultados muito inferiores aos dois anteriores, sendo mantidos aqui apenas comentados, caso haja interesse de sua execução posterior."
      ]
    },
    {
      "cell_type": "code",
      "metadata": {
        "id": "ewfZlKlFvK5U",
        "colab": {
          "base_uri": "https://localhost:8080/",
          "height": 52
        },
        "outputId": "8de0e63e-89b4-4b56-e0bc-b7301780724b"
      },
      "source": [
        "'''\n",
        "# Aplicação do algoritmo de Machine Learning kNN para o BoW e para o TF-IDF\n",
        "\n",
        "print('Metricas para BoW:')\n",
        "knn = KNeighborsClassifier()\n",
        "knn.fit(X1_train, y1_train)\n",
        "y1_pred = knn.predict(X1_test)\n",
        "mostra_metricas(y1_test, y1_pred)\n",
        "\n",
        "print('\\nMetricas para TF-IDF:')\n",
        "knn.fit(X2_train, y2_train)\n",
        "y2_pred = knn.predict(X2_test)\n",
        "mostra_metricas(y2_test, y2_pred)\n",
        "\n",
        "print_confusion_matrix(y1_test, y1_pred, y2_test, y2_pred)\n",
        "'''"
      ],
      "execution_count": null,
      "outputs": [
        {
          "output_type": "execute_result",
          "data": {
            "application/vnd.google.colaboratory.intrinsic+json": {
              "type": "string"
            },
            "text/plain": [
              "\"\\n# Aplicação do algoritmo de Machine Learning kNN para o BoW e para o TF-IDF\\n\\nprint('Metricas para BoW:')\\nknn = KNeighborsClassifier()\\nknn.fit(X1_train, y1_train)\\ny1_pred = knn.predict(X1_test)\\nmostra_metricas(y1_test, y1_pred)\\n\\nprint('\\nMetricas para TF-IDF:')\\nknn.fit(X2_train, y2_train)\\ny2_pred = knn.predict(X2_test)\\nmostra_metricas(y2_test, y2_pred)\\n\\nprint_confusion_matrix(y1_test, y1_pred, y2_test, y2_pred)\\n\""
            ]
          },
          "metadata": {
            "tags": []
          },
          "execution_count": 26
        }
      ]
    },
    {
      "cell_type": "code",
      "metadata": {
        "id": "ITpEYg8AvRg8"
      },
      "source": [
        ""
      ],
      "execution_count": null,
      "outputs": []
    },
    {
      "cell_type": "code",
      "metadata": {
        "id": "ekJxv9yNv-4v",
        "colab": {
          "base_uri": "https://localhost:8080/",
          "height": 69
        },
        "outputId": "bfd6a0b2-91ae-4a37-cbc5-ed2943ef4fa5"
      },
      "source": [
        "'''\n",
        "# Aplicação do algoritmo de Machine Learning Decision Trees para o BoW e para o TF-IDF\n",
        "\n",
        "print('Metricas para BoW:')\n",
        "dt = DecisionTreeClassifier()\n",
        "dt.fit(X1_train, y1_train)\n",
        "y1_pred = dt.predict(X1_test)\n",
        "mostra_metricas(y1_test, y1_pred)\n",
        "\n",
        "print('\\nMetricas para TF-IDF:')\n",
        "dt.fit(X2_train, y2_train)\n",
        "y2_pred = dt.predict(X2_test)\n",
        "mostra_metricas(y2_test, y2_pred)\n",
        "\n",
        "print_confusion_matrix(y1_test, y1_pred, y2_test, y2_pred)\n",
        "'''"
      ],
      "execution_count": null,
      "outputs": [
        {
          "output_type": "execute_result",
          "data": {
            "application/vnd.google.colaboratory.intrinsic+json": {
              "type": "string"
            },
            "text/plain": [
              "\"\\n# Aplicação do algoritmo de Machine Learning Decision Trees para o BoW e para o TF-IDF\\n\\nprint('Metricas para BoW:')\\ndt = DecisionTreeClassifier()\\ndt.fit(X1_train, y1_train)\\ny1_pred = dt.predict(X1_test)\\nmostra_metricas(y1_test, y1_pred)\\n\\nprint('\\nMetricas para TF-IDF:')\\ndt.fit(X2_train, y2_train)\\ny2_pred = dt.predict(X2_test)\\nmostra_metricas(y2_test, y2_pred)\\n\\nprint_confusion_matrix(y1_test, y1_pred, y2_test, y2_pred)\\n\""
            ]
          },
          "metadata": {
            "tags": []
          },
          "execution_count": 27
        }
      ]
    },
    {
      "cell_type": "code",
      "metadata": {
        "id": "_cd-tTBEvK7o"
      },
      "source": [
        ""
      ],
      "execution_count": null,
      "outputs": []
    },
    {
      "cell_type": "code",
      "metadata": {
        "id": "kNmQe0cGxlBg",
        "colab": {
          "base_uri": "https://localhost:8080/",
          "height": 69
        },
        "outputId": "6260a666-bfa0-4c3c-f662-65b09a1b27f0"
      },
      "source": [
        "'''\n",
        "# Aplicação do algoritmo de Machine Learning Multinomial Naive-Bayes para o BoW e para o TF-IDF\n",
        "\n",
        "print('Metricas para BoW:')\n",
        "mnb = MultinomialNB()\n",
        "mnb.fit(X1_train.toarray(), y1_train)\n",
        "y1_pred = mnb.predict(X1_test)\n",
        "mostra_metricas(y1_test, y1_pred)\n",
        "\n",
        "print('\\nMetricas para TF-IDF:')\n",
        "mnb.fit(X2_train.toarray(), y2_train)\n",
        "y2_pred = mnb.predict(X2_test)\n",
        "mostra_metricas(y2_test, y2_pred)\n",
        "\n",
        "print_confusion_matrix(y1_test, y1_pred, y2_test, y2_pred)\n",
        "'''"
      ],
      "execution_count": null,
      "outputs": [
        {
          "output_type": "execute_result",
          "data": {
            "application/vnd.google.colaboratory.intrinsic+json": {
              "type": "string"
            },
            "text/plain": [
              "\"\\n# Aplicação do algoritmo de Machine Learning Multinomial Naive-Bayes para o BoW e para o TF-IDF\\n\\nprint('Metricas para BoW:')\\nmnb = MultinomialNB()\\nmnb.fit(X1_train.toarray(), y1_train)\\ny1_pred = mnb.predict(X1_test)\\nmostra_metricas(y1_test, y1_pred)\\n\\nprint('\\nMetricas para TF-IDF:')\\nmnb.fit(X2_train.toarray(), y2_train)\\ny2_pred = mnb.predict(X2_test)\\nmostra_metricas(y2_test, y2_pred)\\n\\nprint_confusion_matrix(y1_test, y1_pred, y2_test, y2_pred)\\n\""
            ]
          },
          "metadata": {
            "tags": []
          },
          "execution_count": 28
        }
      ]
    },
    {
      "cell_type": "code",
      "metadata": {
        "id": "hK8ucY1OCT1H"
      },
      "source": [
        ""
      ],
      "execution_count": null,
      "outputs": []
    },
    {
      "cell_type": "code",
      "metadata": {
        "id": "hkEhLSznDOYf",
        "colab": {
          "base_uri": "https://localhost:8080/",
          "height": 69
        },
        "outputId": "dc6f172f-710f-40ae-95d1-9a35bb683a32"
      },
      "source": [
        "'''\n",
        "# Aplicação do algoritmo de Machine Learning SVC para o BoW e para o TF-IDF\n",
        "\n",
        "print('Metricas para BoW:')\n",
        "svc = SVC()\n",
        "svc.fit(X1_train, y1_train)\n",
        "y1_pred = svc.predict(X1_test)\n",
        "mostra_metricas(y1_test, y1_pred)\n",
        "\n",
        "print('\\nMetricas para TF-IDF:')\n",
        "svc.fit(X2_train, y2_train)\n",
        "y2_pred = svc.predict(X2_test)\n",
        "mostra_metricas(y2_test, y2_pred)\n",
        "\n",
        "print_confusion_matrix(y1_test, y1_pred, y2_test, y2_pred)\n",
        "'''"
      ],
      "execution_count": null,
      "outputs": [
        {
          "output_type": "execute_result",
          "data": {
            "application/vnd.google.colaboratory.intrinsic+json": {
              "type": "string"
            },
            "text/plain": [
              "\"\\n# Aplicação do algoritmo de Machine Learning SVC para o BoW e para o TF-IDF\\n\\nprint('Metricas para BoW:')\\nsvc = SVC()\\nsvc.fit(X1_train, y1_train)\\ny1_pred = svc.predict(X1_test)\\nmostra_metricas(y1_test, y1_pred)\\n\\nprint('\\nMetricas para TF-IDF:')\\nsvc.fit(X2_train, y2_train)\\ny2_pred = svc.predict(X2_test)\\nmostra_metricas(y2_test, y2_pred)\\n\\nprint_confusion_matrix(y1_test, y1_pred, y2_test, y2_pred)\\n\""
            ]
          },
          "metadata": {
            "tags": []
          },
          "execution_count": 29
        }
      ]
    },
    {
      "cell_type": "code",
      "metadata": {
        "id": "q7O4QOFLD_I3"
      },
      "source": [
        ""
      ],
      "execution_count": null,
      "outputs": []
    },
    {
      "cell_type": "code",
      "metadata": {
        "id": "-QayWKgVD_Pz",
        "colab": {
          "base_uri": "https://localhost:8080/",
          "height": 430
        },
        "outputId": "5651582d-5be2-49d7-dd0a-cb0046345c1d"
      },
      "source": [
        "# Comparação entre os melhores modelos.\n",
        "# O vetorizador BoW retornou melhores resultados e por isso foi selecionado para continuidade da atividade\n",
        "\n",
        "print(\"\\nMatriz de confusão:\")\n",
        "\n",
        "fig = plt.figure(figsize=(15,5))\n",
        "plt.subplots_adjust(wspace=0.25, hspace=0.05)\n",
        "plt.suptitle('Comparativo entre os algoritmos Logistic Regression e Random Forest\\n\\n', fontsize=16)\n",
        "\n",
        "plt.subplot(1, 2, 1)\n",
        "sns.heatmap(confusion_matrix(y1_test, y_reglog), annot=True, cbar=False, fmt='d', xticklabels=nomes, yticklabels=nomes)\n",
        "plt.title('Logistic Regression')\n",
        "plt.xticks(rotation=90)\n",
        "plt.yticks(rotation=0)\n",
        "\n",
        "plt.subplot(1, 2, 2)\n",
        "sns.heatmap(confusion_matrix(y1_test, y_rf), annot=True, cbar=False, fmt='d', xticklabels=nomes, yticklabels=nomes)\n",
        "plt.title('Random Forest')\n",
        "plt.xticks(rotation=90)\n",
        "plt.yticks(rotation=0) \n",
        "\n",
        "plt.show()"
      ],
      "execution_count": null,
      "outputs": [
        {
          "output_type": "stream",
          "text": [
            "\n",
            "Matriz de confusão:\n"
          ],
          "name": "stdout"
        },
        {
          "output_type": "display_data",
          "data": {
            "image/png": "[encoded data removed]",
            "text/plain": [
              "<Figure size 1080x360 with 2 Axes>"
            ]
          },
          "metadata": {
            "tags": [],
            "needs_background": "light"
          }
        }
      ]
    },
    {
      "cell_type": "code",
      "metadata": {
        "id": "HXGrXoO95-5r"
      },
      "source": [
        ""
      ],
      "execution_count": null,
      "outputs": []
    },
    {
      "cell_type": "code",
      "metadata": {
        "colab": {
          "base_uri": "https://localhost:8080/"
        },
        "id": "EusJok6tK3wp",
        "outputId": "0d7a3e44-f1b1-4c03-a601-b6f4a0c6b15d"
      },
      "source": [
        "alegria = amor = medo = raiva = surpresa = tristeza = 0\n",
        "\n",
        "for i in (y1_test):\n",
        "    if i == 0:\n",
        "        alegria = alegria + 1\n",
        "    elif i == 1:\n",
        "        amor = amor + 1\n",
        "    elif i == 2:\n",
        "        medo = medo + 1\n",
        "    elif i == 3:\n",
        "        raiva = raiva + 1\n",
        "    elif i == 4:\n",
        "        surpresa = surpresa + 1\n",
        "    elif i == 5:\n",
        "        tristeza = tristeza + 1\n",
        "\n",
        "print(f'Alegria: {alegria}, Amor: {amor}, Medo: {medo}, Raiva: {raiva}, Surpresa: {surpresa}, Tristeza: {tristeza}' )"
      ],
      "execution_count": null,
      "outputs": [
        {
          "output_type": "stream",
          "text": [
            "Alegria: 1347, Amor: 326, Medo: 473, Raiva: 540, Surpresa: 143, Tristeza: 1156\n"
          ],
          "name": "stdout"
        }
      ]
    },
    {
      "cell_type": "code",
      "metadata": {
        "colab": {
          "base_uri": "https://localhost:8080/"
        },
        "id": "QvpLQo4W5-80",
        "outputId": "03874871-8aa1-4e27-8f6a-89b1dfd3c29c"
      },
      "source": [
        "# Devido ao fato do algoritmo estar correlacionando fortemente os sentimentos amor e alegria e também pelo fato\n",
        "# de se supor que a pessoa que ama estah feliz (pelo menos deveria...), as entradas dos dois sentimentos foram unidos no sentimento alegria\n",
        "\n",
        "new_emotion_df = emotion_df.replace({'emocao':'amor'}, 'alegria')\n",
        "new_emotion_df['emocao'].value_counts()"
      ],
      "execution_count": null,
      "outputs": [
        {
          "output_type": "execute_result",
          "data": {
            "text/plain": [
              "alegria     8366\n",
              "tristeza    5782\n",
              "raiva       2698\n",
              "medo        2366\n",
              "surpresa     713\n",
              "Name: emocao, dtype: int64"
            ]
          },
          "metadata": {
            "tags": []
          },
          "execution_count": 32
        }
      ]
    },
    {
      "cell_type": "code",
      "metadata": {
        "colab": {
          "base_uri": "https://localhost:8080/"
        },
        "id": "hbi94ubTteyB",
        "outputId": "8e04ed43-c09f-4ca1-e560-f8f54be79373"
      },
      "source": [
        "print(f'O dataset alterado possui {new_emotion_df.shape[0]} linhas por {new_emotion_df.shape[1]} colunas.')"
      ],
      "execution_count": null,
      "outputs": [
        {
          "output_type": "stream",
          "text": [
            "O dataset alterado possui 19925 linhas por 2 colunas.\n"
          ],
          "name": "stdout"
        }
      ]
    },
    {
      "cell_type": "code",
      "metadata": {
        "colab": {
          "base_uri": "https://localhost:8080/"
        },
        "id": "G692UoYi5-_T",
        "outputId": "59febca1-6acb-4067-b00d-f2622cdc5a75"
      },
      "source": [
        "# Transformação das categorias do dataset alterado para variáveis numéricas\n",
        "\n",
        "ordinal_encoder = OrdinalEncoder()\n",
        "ord_encoder_emotion_alt = ordinal_encoder.fit_transform(new_emotion_df[['emocao']])\n",
        "ordinal_encoder.categories_"
      ],
      "execution_count": null,
      "outputs": [
        {
          "output_type": "execute_result",
          "data": {
            "text/plain": [
              "[array(['alegria', 'medo', 'raiva', 'surpresa', 'tristeza'], dtype=object)]"
            ]
          },
          "metadata": {
            "tags": []
          },
          "execution_count": 34
        }
      ]
    },
    {
      "cell_type": "code",
      "metadata": {
        "id": "wRBAFFzH5_CC"
      },
      "source": [
        "# Separação do dataframe alterado em sets de treino e teste. Apenas o vetorizador BoW será utilizado pois demonstrou melhores métricas\n",
        "\n",
        "X1_train_alt, X1_test_alt, y1_train_alt, y1_test_alt = train_test_split(X_bow, ord_encoder_emotion_alt, test_size=0.2, random_state=RANDOM_STATE, stratify=ord_encoder_emotion_alt)\n",
        "y1_train_alt = y1_train_alt.ravel()"
      ],
      "execution_count": null,
      "outputs": []
    },
    {
      "cell_type": "code",
      "metadata": {
        "colab": {
          "base_uri": "https://localhost:8080/"
        },
        "id": "4oZC4NbhI8Fb",
        "outputId": "35aaf66b-45a0-4c33-fdd5-86071e171202"
      },
      "source": [
        "print(f'O dataset de treino possui {X1_train_alt.shape[0]} linhas e o de teste {X1_test_alt.shape[0]} linhas.')"
      ],
      "execution_count": null,
      "outputs": [
        {
          "output_type": "stream",
          "text": [
            "O dataset de treino possui 15940 linhas e o de teste 3985 linhas.\n"
          ],
          "name": "stdout"
        }
      ]
    },
    {
      "cell_type": "code",
      "metadata": {
        "id": "DVPkAoOL6zy2"
      },
      "source": [
        "nomes_alt = ['alegria', 'medo', 'raiva', 'surpresa', 'tristeza']"
      ],
      "execution_count": null,
      "outputs": []
    },
    {
      "cell_type": "code",
      "metadata": {
        "colab": {
          "base_uri": "https://localhost:8080/",
          "height": 549
        },
        "id": "njadZCpV6z1t",
        "outputId": "9fd0f981-7e11-42d1-b2ce-7dbd38b5e634"
      },
      "source": [
        "print('Metricas para Logistic Regression:')\n",
        "reglog2 = LogisticRegression(max_iter=1000, fit_intercept=True)\n",
        "reglog2.fit(X1_train_alt, y1_train_alt)\n",
        "reglog2_y1_pred = reglog2.predict(X1_test_alt)\n",
        "mostra_metricas(y1_test_alt, reglog2_y1_pred)\n",
        "\n",
        "print('\\nMetricas para Random Forest:')\n",
        "rf2 = RandomForestClassifier()\n",
        "rf2.fit(X1_train_alt, y1_train_alt)\n",
        "rf2_y1_pred = rf2.predict(X1_test_alt)\n",
        "mostra_metricas(y1_test_alt, rf2_y1_pred)\n",
        "\n",
        "\n",
        "print(\"\\nMatriz de confusão:\")\n",
        "\n",
        "fig = plt.figure(figsize=(15,5))\n",
        "plt.subplots_adjust(wspace=0.25, hspace=0.05)\n",
        "plt.suptitle('Comparativo entre os algoritmos Logistic Regression e Random Forest para o dataset alterado\\n\\n', fontsize=16)\n",
        "\n",
        "plt.subplot(1, 2, 1)\n",
        "sns.heatmap(confusion_matrix(y1_test_alt, reglog2_y1_pred), annot=True, cbar=False, fmt='d', xticklabels=nomes_alt, yticklabels=nomes_alt)\n",
        "plt.title('Logistic Regression')\n",
        "plt.xticks(rotation=90)\n",
        "plt.yticks(rotation=0)\n",
        "\n",
        "plt.subplot(1, 2, 2)\n",
        "sns.heatmap(confusion_matrix(y1_test_alt, rf2_y1_pred), annot=True, cbar=False, fmt='d', xticklabels=nomes_alt, yticklabels=nomes_alt)\n",
        "plt.title('Random Forest')\n",
        "plt.xticks(rotation=90)\n",
        "plt.yticks(rotation=0) \n",
        "\n",
        "plt.show()"
      ],
      "execution_count": null,
      "outputs": [
        {
          "output_type": "stream",
          "text": [
            "Metricas para Logistic Regression:\n",
            "Acurácia:  0.8193224592220828\n",
            "F1-Score: 0.8168166794777322\n",
            "\n",
            "Metricas para Random Forest:\n",
            "Acurácia:  0.8100376411543287\n",
            "F1-Score: 0.8082687921008441\n",
            "\n",
            "Matriz de confusão:\n"
          ],
          "name": "stdout"
        },
        {
          "output_type": "display_data",
          "data": {
            "image/png": "[encoded data removed]",
            "text/plain": [
              "<Figure size 1080x360 with 2 Axes>"
            ]
          },
          "metadata": {
            "tags": [],
            "needs_background": "light"
          }
        }
      ]
    },
    {
      "cell_type": "code",
      "metadata": {
        "id": "ljaEfleC5_UG",
        "colab": {
          "base_uri": "https://localhost:8080/",
          "height": 430
        },
        "outputId": "e6c15175-4502-467e-8f26-f2717c1a91f3"
      },
      "source": [
        "# O set de testes original possui 326 entradas para a variável amor. No set de treino alterado houve um incremento de 314 entradas\n",
        "# para a variável alegria e um ligeiro reajuste para as demais variáveis, mais acentuado para a variável tristeza, jah esperado\n",
        "# por possuir mais entradas que os outros, com exceção da alegria.\n",
        "\n",
        "print(\"\\nMatriz de confusão:\")\n",
        "\n",
        "fig = plt.figure(figsize=(15,5))\n",
        "plt.subplots_adjust(wspace=0.25, hspace=0.05)\n",
        "plt.suptitle('Comparativo entre os datasets original e alterado para o algoritmo Logistic Regression\\n', fontsize=16)\n",
        "\n",
        "plt.subplot(1, 2, 1)\n",
        "sns.heatmap(confusion_matrix(y1_test, y_reglog), annot=True, cbar=False, fmt='d', xticklabels=nomes, yticklabels=nomes)\n",
        "plt.title('Dataset original')\n",
        "plt.xticks(rotation=90)\n",
        "plt.yticks(rotation=0)\n",
        "\n",
        "plt.subplot(1, 2, 2)\n",
        "sns.heatmap(confusion_matrix(y1_test_alt, reglog2_y1_pred), annot=True, cbar=False, fmt='d', xticklabels=nomes_alt, yticklabels=nomes_alt)\n",
        "plt.title('Dataset alterado')\n",
        "plt.xticks(rotation=90)\n",
        "plt.yticks(rotation=0) \n",
        "\n",
        "plt.show()"
      ],
      "execution_count": null,
      "outputs": [
        {
          "output_type": "stream",
          "text": [
            "\n",
            "Matriz de confusão:\n"
          ],
          "name": "stdout"
        },
        {
          "output_type": "display_data",
          "data": {
            "image/png": "[encoded data removed]",
            "text/plain": [
              "<Figure size 1080x360 with 2 Axes>"
            ]
          },
          "metadata": {
            "tags": [],
            "needs_background": "light"
          }
        }
      ]
    },
    {
      "cell_type": "code",
      "metadata": {
        "id": "o6ulYZQP3hO_"
      },
      "source": [
        "resultados = {0:'alegria', 1:'amor', 2:'medo', 3:'raiva', 4:'surpresa', 5:'tristeza'}\n",
        "resultados_ajust = {0:'alegria', 1:'medo', 2:'raiva', 3:'surpresa', 4:'tristeza'}"
      ],
      "execution_count": null,
      "outputs": []
    },
    {
      "cell_type": "code",
      "metadata": {
        "id": "6jX608bZ3wAV"
      },
      "source": [
        "# Função para predição da entrada de texto do usuário baseada no dataset original\n",
        "\n",
        "def nova_predicao(texto):\n",
        "    texto_vetorizado = vectorizer.transform([texto])\n",
        "    pred_reglog_bow = reglog.predict(texto_vetorizado)\n",
        "\n",
        "    print(f'A classificação para RegLog com o dataset inalterado foi: {resultados.get(pred_reglog_bow[0])}')"
      ],
      "execution_count": null,
      "outputs": []
    },
    {
      "cell_type": "code",
      "metadata": {
        "id": "Yy3Kwm8Y3yn8"
      },
      "source": [
        "# Função para predição da entrada de texto do usuário baseada no dataset alterado.\n",
        "# Apesar da piora na distribuição das variáveis, serah mantida para fins didáticos\n",
        "\n",
        "def nova_predicao_ajust(texto):\n",
        "    texto_vetorizado = vectorizer.transform([texto])\n",
        "    pred2_reglog_bow_alt = reglog2.predict(texto_vetorizado)\n",
        "\n",
        "    print(f'\\nA classificação para RegLog com o dataset alterado foi: {resultados_ajust.get(pred2_reglog_bow_alt[0])}')"
      ],
      "execution_count": null,
      "outputs": []
    },
    {
      "cell_type": "code",
      "metadata": {
        "id": "RRTW9c9df99e",
        "colab": {
          "base_uri": "https://localhost:8080/"
        },
        "outputId": "bb161b80-5f58-4394-8aa7-f70cbad82978"
      },
      "source": [
        "# Ouro de Tolo - Raul Seixas\n",
        "nova_predicao(\"Eu devia estar contente Por ter conseguido tudo o que eu quis Mas confesso abestalhado Que eu estou decepcionado\")\n",
        "nova_predicao_ajust(\"Eu devia estar contente Por ter conseguido tudo o que eu quis Mas confesso abestalhado Que eu estou decepcionado\")"
      ],
      "execution_count": null,
      "outputs": [
        {
          "output_type": "stream",
          "text": [
            "A classificação para RegLog com o dataset inalterado foi: alegria\n",
            "\n",
            "A classificação para RegLog com o dataset alterado foi: alegria\n"
          ],
          "name": "stdout"
        }
      ]
    },
    {
      "cell_type": "code",
      "metadata": {
        "colab": {
          "base_uri": "https://localhost:8080/"
        },
        "id": "SZH7MJkCyNmB",
        "outputId": "b4fa678a-5026-4322-fee5-a9d7d91734a5"
      },
      "source": [
        "# Camila Camila - Nenhum de Nós\n",
        "nova_predicao(\"E eu que tenho medo até do seu olhar Mas o ódio cega e você não percebe Mas o ódio cega\")\n",
        "nova_predicao_ajust(\"E eu que tenho medo até do seu olhar Mas o ódio cega e você não percebe Mas o ódio cega\")"
      ],
      "execution_count": null,
      "outputs": [
        {
          "output_type": "stream",
          "text": [
            "A classificação para RegLog com o dataset inalterado foi: medo\n",
            "\n",
            "A classificação para RegLog com o dataset alterado foi: medo\n"
          ],
          "name": "stdout"
        }
      ]
    },
    {
      "cell_type": "code",
      "metadata": {
        "colab": {
          "base_uri": "https://localhost:8080/"
        },
        "id": "6sK_GMw-yNoc",
        "outputId": "47072d51-d1b1-4b97-fbfd-663ea57ea878"
      },
      "source": [
        "# Tudo que Vai - Capital Inicial\n",
        "nova_predicao(\"Hoje é o dia E eu quase posso tocar o silêncio A casa vazia Só as coisas que você não quis Me fazem companhia\")\n",
        "nova_predicao_ajust(\"Hoje é o dia E eu quase posso tocar o silêncio A casa vazia Só as coisas que você não quis Me fazem companhia\")"
      ],
      "execution_count": null,
      "outputs": [
        {
          "output_type": "stream",
          "text": [
            "A classificação para RegLog com o dataset inalterado foi: tristeza\n",
            "\n",
            "A classificação para RegLog com o dataset alterado foi: tristeza\n"
          ],
          "name": "stdout"
        }
      ]
    },
    {
      "cell_type": "code",
      "metadata": {
        "colab": {
          "base_uri": "https://localhost:8080/"
        },
        "id": "wbcE0BuVyNrB",
        "outputId": "45d528e0-908a-418a-b9c3-ab8b4e0920dc"
      },
      "source": [
        "# Teatro dos Vampiros - Legião Urbana\n",
        "nova_predicao(\"Vamos sair mas não temos mais dinheiro Os meus amigos todos estão procurando emprego\")\n",
        "nova_predicao_ajust(\"Vamos sair mas não temos mais dinheiro Os meus amigos todos estão procurando emprego\")"
      ],
      "execution_count": null,
      "outputs": [
        {
          "output_type": "stream",
          "text": [
            "A classificação para RegLog com o dataset inalterado foi: tristeza\n",
            "\n",
            "A classificação para RegLog com o dataset alterado foi: alegria\n"
          ],
          "name": "stdout"
        }
      ]
    },
    {
      "cell_type": "code",
      "metadata": {
        "colab": {
          "base_uri": "https://localhost:8080/"
        },
        "id": "Qml-AAK_yNtW",
        "outputId": "08006dbc-c7c1-403e-9662-1549c2635a39"
      },
      "source": [
        "# Boate Azul - Bruno e Marrone\n",
        "nova_predicao(\"Eu bebi demais e não consigo me lembrar sequer Qual é o nome daquela mulher A flor da noite da boate azul\")\n",
        "nova_predicao_ajust(\"Eu bebi demais e não consigo me lembrar sequer Qual é o nome daquela mulher A flor da noite da boate azul\")"
      ],
      "execution_count": null,
      "outputs": [
        {
          "output_type": "stream",
          "text": [
            "A classificação para RegLog com o dataset inalterado foi: amor\n",
            "\n",
            "A classificação para RegLog com o dataset alterado foi: alegria\n"
          ],
          "name": "stdout"
        }
      ]
    },
    {
      "cell_type": "code",
      "metadata": {
        "colab": {
          "base_uri": "https://localhost:8080/"
        },
        "id": "QJSeAedoyNvT",
        "outputId": "45f9813c-2405-4aef-f131-89585a208879"
      },
      "source": [
        "# Equalize - Pitty\n",
        "nova_predicao(\"E eu acho que eu gosto mesmo de você Bem do jeito que você é\")\n",
        "nova_predicao_ajust(\"E eu acho que eu gosto mesmo de você Bem do jeito que você é\")"
      ],
      "execution_count": null,
      "outputs": [
        {
          "output_type": "stream",
          "text": [
            "A classificação para RegLog com o dataset inalterado foi: alegria\n",
            "\n",
            "A classificação para RegLog com o dataset alterado foi: alegria\n"
          ],
          "name": "stdout"
        }
      ]
    },
    {
      "cell_type": "code",
      "metadata": {
        "colab": {
          "base_uri": "https://localhost:8080/"
        },
        "id": "WufTh_0VyNxy",
        "outputId": "65b07902-c5bd-46ad-d2c0-aedcb125275e"
      },
      "source": [
        "# Não é Sério - Charlie Brown Jr.\n",
        "nova_predicao(\"A polícia diz que já causei muito distúrbio O repórter quer saber porque eu me drogo o que é que eu uso Eu também senti a dor E disso tudo eu fiz a rima\")\n",
        "nova_predicao_ajust(\"A polícia diz que já causei muito distúrbio O repórter quer saber porque eu me drogo o que é que eu uso Eu também senti a dor E disso tudo eu fiz a rima\")"
      ],
      "execution_count": null,
      "outputs": [
        {
          "output_type": "stream",
          "text": [
            "A classificação para RegLog com o dataset inalterado foi: tristeza\n",
            "\n",
            "A classificação para RegLog com o dataset alterado foi: tristeza\n"
          ],
          "name": "stdout"
        }
      ]
    },
    {
      "cell_type": "code",
      "metadata": {
        "colab": {
          "base_uri": "https://localhost:8080/"
        },
        "id": "1anbKJVP428X",
        "outputId": "f13e9468-be62-4b9a-9799-985112534f3d"
      },
      "source": [
        "# Eu Que Não Amo Você - Engenheiros do Hawaii\n",
        "nova_predicao(\"Eu que não fumo queria um cigarro Eu que não amo você Envelheci dez anos ou mais nesse último mês\")\n",
        "nova_predicao_ajust(\"Eu que não fumo queria um cigarro Eu que não amo você Envelheci dez anos ou mais nesse último mês\")"
      ],
      "execution_count": null,
      "outputs": [
        {
          "output_type": "stream",
          "text": [
            "A classificação para RegLog com o dataset inalterado foi: alegria\n",
            "\n",
            "A classificação para RegLog com o dataset alterado foi: alegria\n"
          ],
          "name": "stdout"
        }
      ]
    },
    {
      "cell_type": "code",
      "metadata": {
        "id": "laVI8BjiO0Px"
      },
      "source": [
        ""
      ],
      "execution_count": null,
      "outputs": []
    },
    {
      "cell_type": "markdown",
      "metadata": {
        "id": "Acjf4XzrNzGY"
      },
      "source": [
        "________________________________\n",
        "## _**Conclusão**_:\n",
        "\n",
        "### O modelo escolhido foi o algoritmo Logistic Regression com o dataset original.\n",
        "\n",
        "#### Comparando-se os trechos das músicas acima citados com os resultados preditos, pode-se concluir que o dataset alterado associado ao algoritmo Logistic Regression não entregou melhores resultados, apesar de maior acurácia.\n",
        "\n",
        "#### Diversas técnicas foram experimentadas, mas as que entregaram melhores resultados foram as expostas no código-fonte. Técnicas como stemização e lematização pioraram os resultados. Alterar a lista de stopwords também não melhorou o resultado. \n",
        "\n",
        "#### O baixo desempenho do modelo pode ser explicado pelo fato do dataset não possuir muitos dados, pelo fato do dataset original estar cheio de gírias, abreviações e erros de grafia e principalmente pelo fato da baixa qualidade da tradução do inglês para português, o que gerou muitas frases sem sentido e traduções disconexas."
      ]
    },
    {
      "cell_type": "code",
      "metadata": {
        "id": "HktJJAPJOp34"
      },
      "source": [
        ""
      ],
      "execution_count": null,
      "outputs": []
    }
  ]
}