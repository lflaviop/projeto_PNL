{
  "nbformat": 4,
  "nbformat_minor": 0,
  "metadata": {
    "colab": {
      "name": "Atividade PNL Ana Luiza e Luiz Flavio - Parte 1.ipynb",
      "provenance": [],
      "collapsed_sections": []
    },
    "kernelspec": {
      "name": "python3",
      "display_name": "Python 3"
    },
    "language_info": {
      "name": "python"
    }
  },
  "cells": [
    {
      "cell_type": "markdown",
      "metadata": {
        "id": "nxCZwBDPC0_T"
      },
      "source": [
        "# **_Atividade de Programação Natural de Linguagem (PNL) - Parte 1_**\n",
        "### **_Alunos:_** Ana Luiza F. Gouveia, Luiz Flavio Pereira\n",
        "_____________________________________"
      ]
    },
    {
      "cell_type": "markdown",
      "metadata": {
        "id": "DS8pmJBjC8v2"
      },
      "source": [
        "Análise do dataset _Emotion Dataset for NLP_, disponível em https://www.kaggle.com/praveengovi/emotions-dataset-for-nlp.\n",
        "\n",
        "\n",
        "O presente trabalho possui por objetivo efetuar a análise do dataset através das técnicas de Análise de PNL associadas às técnicas de _Machine Learning_, com o intuito de tornar possível a identificação do sentimento implícito em um texto _inputado_ por um usuário."
      ]
    },
    {
      "cell_type": "code",
      "metadata": {
        "id": "L3ZJLK_KyllG"
      },
      "source": [
        "# Importação das bibliotecas necessárias à execução do programa\n",
        "\n",
        "import pandas as pd\n",
        "import numpy as np\n",
        "import matplotlib.pyplot as plt\n",
        "import seaborn as sns\n",
        "import string\n",
        "sns.set()\n",
        "\n",
        "import nltk\n",
        "from nltk.corpus import stopwords\n",
        "\n",
        "from sklearn.feature_extraction.text import CountVectorizer\n",
        "from sklearn.feature_extraction.text import TfidfVectorizer\n",
        "from sklearn.preprocessing import OrdinalEncoder\n",
        "from sklearn.model_selection import train_test_split\n",
        "\n",
        "from sklearn.metrics import accuracy_score, confusion_matrix, f1_score\n",
        "\n",
        "from sklearn.linear_model import LogisticRegression\n",
        "from sklearn.tree import DecisionTreeClassifier\n",
        "from sklearn.svm import SVC\n",
        "from sklearn.ensemble import RandomForestClassifier\n",
        "from sklearn.neighbors import KNeighborsClassifier\n",
        "from sklearn.naive_bayes import MultinomialNB\n",
        "\n",
        "RANDOM_STATE = 42"
      ],
      "execution_count": null,
      "outputs": []
    },
    {
      "cell_type": "code",
      "metadata": {
        "id": "L8H1shvKcFej",
        "colab": {
          "base_uri": "https://localhost:8080/"
        },
        "outputId": "954cd5b2-d595-4067-a349-eb985299df80"
      },
      "source": [
        "# Download da base de dados do stopwords da biblioteca NLTK para Inglês\n",
        "\n",
        "nltk.download('stopwords')\n",
        "stop_words = set(stopwords.words('english'))\n",
        "\n",
        "print('\\nLista de stopwords em inglês: ')\n",
        "print(stop_words)"
      ],
      "execution_count": null,
      "outputs": [
        {
          "output_type": "stream",
          "text": [
            "[nltk_data] Downloading package stopwords to /root/nltk_data...\n",
            "[nltk_data]   Unzipping corpora/stopwords.zip.\n",
            "\n",
            "Lista de stopwords em inglês: \n",
            "{'o', 'further', 'hadn', 'yours', \"needn't\", \"you'd\", \"isn't\", \"shouldn't\", 'be', 'had', 'through', 'he', 'ain', \"hasn't\", 'been', 'your', 'more', \"should've\", 'y', 'doesn', 'needn', 'any', 'those', 'my', 'don', 'but', 'out', 'that', \"don't\", 'now', 'into', 'you', 'on', 'having', 'a', 'until', 'for', \"mightn't\", \"didn't\", 'me', 'so', 'when', 'll', 'mightn', 'whom', 'very', 'themselves', \"weren't\", 'while', \"you've\", 'am', 'aren', 'being', \"aren't\", 'nor', \"shan't\", 'which', 'about', 'an', 'because', 'as', 'why', 'wasn', 'where', 'no', 's', 'between', 'each', 'have', 'our', 'against', 'only', 'didn', 'yourselves', 'herself', 'just', \"you'll\", 'they', 'them', \"doesn't\", 'has', 'ma', 'down', \"haven't\", 'below', 'over', 'himself', 'isn', 'will', 'are', 'ours', 'of', 'few', 'what', \"couldn't\", 'wouldn', \"that'll\", 'is', 't', 'most', 'than', \"wouldn't\", 'the', 'both', \"won't\", 'with', 'hasn', 'this', 'shan', 'it', 'yourself', \"it's\", 'too', 'and', 'once', 'hers', 'in', 'were', 'his', 'she', 'itself', 'doing', 'can', 'who', 'i', 'her', 'again', 'there', 'same', 'shouldn', 'its', 'at', 'him', 'up', 'was', 'does', 'how', 're', 'mustn', 'not', \"mustn't\", 'before', 'then', 'd', \"she's\", 'couldn', 'all', 'to', 'theirs', 'during', 'm', 'weren', 'off', \"hadn't\", 'here', 'from', 'if', 'won', 'own', 'by', 'other', 'we', 'under', 'do', 'or', \"wasn't\", 'these', 'some', 'such', 'ourselves', 'myself', 'did', 'their', \"you're\", 'haven', 'above', 'should', 've', 'after'}\n"
          ],
          "name": "stdout"
        }
      ]
    },
    {
      "cell_type": "code",
      "metadata": {
        "id": "zwfp46V3fMok"
      },
      "source": [
        "# O dataset do texto possui diversas palavras grafadas incorretamente, especialmente aquelas abreviadas com o uso do apóstrofo.\n",
        "# Eh possível que isso tenha havido na extração do dataset pelo autor que o criou.\n",
        "# Assim, foi-se criado um dicionário para substituir as palavras incorretas com mais ocorrência no texto para possibilitar a remoção pelas stopwords\n",
        "# a fim de melhorar a performance do algoritmo.\n",
        "\n",
        "addic = {'didnt':\"didn't\", 'doesnt':\"doesn't\", 'wasnt':\"wasn't\", 'shoudnt':\"shouldn't\", 'youll':\"you'll\", 'wont':\"won't\", 'hasnt':\"hasn't\", \n",
        "         'isnt':\"isn't\", 'wouldnt':\"wouldn't\", 'mightnt':\"mightn't\", 'shouldve':\"should've\", 'hadnt':\"hadn't\", 'shant':\"shan't\", 'shes':\"she's\", \n",
        "         'youve':\"you've\", 'thatll':\"that'll\", 'couldnt':\"couldn't\", 'dont':\"don't\", 'arent':\"aren't\", 'youre':\"you're\", 'werent':\"weren't\", \n",
        "         'havent':\"haven't\", 'im':\"i am\", 'ive':\"i have\", 'cant':\"can't\", 'aint':\"ain't\"}"
      ],
      "execution_count": null,
      "outputs": []
    },
    {
      "cell_type": "code",
      "metadata": {
        "id": "TeDuE3kPIQfZ"
      },
      "source": [
        "# Função para tratamento do texto para possibilitar a entrada no algoritmo de Machine Learning.\n",
        "\n",
        "def text_process(original_sentences):\n",
        "\n",
        "    # Minimização dos caracteres, a fim de se evitar a diferenciação pelo algoritmo entre letras maiúsculas e minúsculas.\n",
        "    original_sentences = original_sentences.lower()\n",
        "\n",
        "    # Remoção da pontuação e reagrupamento da string de texto.\n",
        "    processing = [char for char in original_sentences if char not in string.punctuation]\n",
        "    processing = ''.join(processing)\n",
        "\n",
        "    # Substituição das palavras incorretas no texto pelas correspondentes grafadas corretamente\n",
        "    processing = [addic.get(word) if word in addic.keys() else word for word in processing.split()]\n",
        "    processing = ' '.join(processing)\n",
        "  \n",
        "    # Remoção dos stopwords das frases e reagrupamento da string de texto.\n",
        "    word_seq = [word for word in processing.split() if word.lower() not in stop_words]\n",
        "\n",
        "    return ' '.join(word_seq)"
      ],
      "execution_count": null,
      "outputs": []
    },
    {
      "cell_type": "code",
      "metadata": {
        "id": "2uLNZlgypMDN"
      },
      "source": [
        "# Função para exibição das métricas de medição de desempenho do algoritmo, de acordo com o resultado predito e o verdadeiro.\n",
        "# Devido às características do texto, duas métricas se mostraram amsi adequadas à análise, sendo elas a acurácia e o F1-score.\n",
        "\n",
        "def mostra_metricas(y_true, y_pred):\n",
        "    print(\"Acurácia: \", accuracy_score(y_true, y_pred))\n",
        "    print(\"F1-Score:\", f1_score(y_true, y_pred, average='weighted'))"
      ],
      "execution_count": null,
      "outputs": []
    },
    {
      "cell_type": "code",
      "metadata": {
        "id": "X8tpYArvfzCx"
      },
      "source": [
        "# Função para plotagem da Matriz de Confusão para comparação dos modelos.\n",
        "# A função plota duas matrizes, uma para o modelo Bag of Words (BoW) e outra para o modelo Term Frequency – Inverse Document Frequency (TF-IDF)\n",
        "\n",
        "def print_confusion_matrix(y_test1, y_pred1, y_test2, y_pred2):\n",
        "    print(\"\\nMatriz de confusão:\")\n",
        "\n",
        "    fig = plt.figure(figsize=(15,5))\n",
        "    plt.subplots_adjust(wspace=0.25, hspace=0.05)\n",
        "    plt.suptitle('Comparativo entre os vetorizadores BoW e TF-IDF')\n",
        "\n",
        "    plt.subplot(1, 2, 1)\n",
        "    sns.heatmap(confusion_matrix(y_test1, y_pred1), annot=True, cbar=False, fmt='d', xticklabels=nomes, yticklabels=nomes)\n",
        "    plt.title('BoW')\n",
        "    plt.xticks(rotation=90)\n",
        "    plt.yticks(rotation=0)\n",
        "\n",
        "    plt.subplot(1, 2, 2)\n",
        "    sns.heatmap(confusion_matrix(y_test2, y_pred2), annot=True, cbar=False, fmt='d', xticklabels=nomes, yticklabels=nomes)\n",
        "    plt.title('TF-IDF')\n",
        "    plt.xticks(rotation=90)\n",
        "    plt.yticks(rotation=0) \n",
        "\n",
        "    plt.show()\n",
        "\n",
        "    return"
      ],
      "execution_count": null,
      "outputs": []
    },
    {
      "cell_type": "code",
      "metadata": {
        "id": "lfqaDALmy0UD"
      },
      "source": [
        "# Nomes das colunas do Dataframe\n",
        "columns = ['text', 'emotion']"
      ],
      "execution_count": null,
      "outputs": []
    },
    {
      "cell_type": "code",
      "metadata": {
        "id": "KqKX6uujy4ah"
      },
      "source": [
        "# Importação do dataframe dos arquivos de texto\n",
        "\n",
        "train_df = pd.read_csv('train.txt', delimiter=';', header=None, names=columns)\n",
        "test_df = pd.read_csv('test.txt', delimiter=';', header=None, names=columns)\n",
        "val_df = pd.read_csv('val.txt', delimiter=';', header=None, names=columns)"
      ],
      "execution_count": null,
      "outputs": []
    },
    {
      "cell_type": "code",
      "metadata": {
        "id": "zuCP2nYantK4",
        "colab": {
          "base_uri": "https://localhost:8080/"
        },
        "outputId": "cc851c4a-c356-4be8-b9c2-692d79e01c58"
      },
      "source": [
        "# Devido ao fato do dataset ter sido disponibilizado em três arquivos separados, foi-se optado por uní-los e dividir o dataframe completo em duas partes: treino e teste.\n",
        "# Essa escolha veio do fato dos arquivos de teste e validação não estarem categorizados de forma homogênea, podendo induzir o algoritmo a erros.\n",
        "\n",
        "emotion_df = pd.concat([train_df, test_df, val_df])\n",
        "print(f'O dataset emotion_df tem {emotion_df.shape[0]} linhas e {emotion_df.shape[1]} colunas.')"
      ],
      "execution_count": null,
      "outputs": [
        {
          "output_type": "stream",
          "text": [
            "O dataset emotion_df tem 20000 linhas e 2 colunas.\n"
          ],
          "name": "stdout"
        }
      ]
    },
    {
      "cell_type": "code",
      "metadata": {
        "colab": {
          "base_uri": "https://localhost:8080/"
        },
        "id": "nEQabSyJmO4n",
        "outputId": "5bef40db-29cc-4b84-fe7a-04f05853eb69"
      },
      "source": [
        "# Script para identificação de entradas duplicadas.\n",
        "\n",
        "duplicat = round(sum(emotion_df.duplicated(\"text\")))\n",
        "print(f\"O dataset possui {duplicat} entradas de texto duplicadas.\")"
      ],
      "execution_count": null,
      "outputs": [
        {
          "output_type": "stream",
          "text": [
            "O dataset possui 52 entradas de texto duplicadas.\n"
          ],
          "name": "stdout"
        }
      ]
    },
    {
      "cell_type": "code",
      "metadata": {
        "colab": {
          "base_uri": "https://localhost:8080/",
          "height": 419
        },
        "id": "0mXYnMdQ8JMs",
        "outputId": "8b5d02a7-d907-4c0f-cd32-eb7417d807a3"
      },
      "source": [
        "# Exibição dos textos duplicados\n",
        "\n",
        "emotion_df[emotion_df.duplicated(\"text\", keep=False)].sort_values(by = \"text\")"
      ],
      "execution_count": null,
      "outputs": [
        {
          "output_type": "execute_result",
          "data": {
            "text/html": [
              "<div>\n",
              "<style scoped>\n",
              "    .dataframe tbody tr th:only-of-type {\n",
              "        vertical-align: middle;\n",
              "    }\n",
              "\n",
              "    .dataframe tbody tr th {\n",
              "        vertical-align: top;\n",
              "    }\n",
              "\n",
              "    .dataframe thead th {\n",
              "        text-align: right;\n",
              "    }\n",
              "</style>\n",
              "<table border=\"1\" class=\"dataframe\">\n",
              "  <thead>\n",
              "    <tr style=\"text-align: right;\">\n",
              "      <th></th>\n",
              "      <th>text</th>\n",
              "      <th>emotion</th>\n",
              "    </tr>\n",
              "  </thead>\n",
              "  <tbody>\n",
              "    <tr>\n",
              "      <th>502</th>\n",
              "      <td>i am feeling stressed and more than a bit anxious</td>\n",
              "      <td>anger</td>\n",
              "    </tr>\n",
              "    <tr>\n",
              "      <th>11898</th>\n",
              "      <td>i am feeling stressed and more than a bit anxious</td>\n",
              "      <td>sadness</td>\n",
              "    </tr>\n",
              "    <tr>\n",
              "      <th>8246</th>\n",
              "      <td>i am not amazing or great at photography but i...</td>\n",
              "      <td>love</td>\n",
              "    </tr>\n",
              "    <tr>\n",
              "      <th>3508</th>\n",
              "      <td>i am not amazing or great at photography but i...</td>\n",
              "      <td>joy</td>\n",
              "    </tr>\n",
              "    <tr>\n",
              "      <th>15705</th>\n",
              "      <td>i began to feel accepted by gaia on her own terms</td>\n",
              "      <td>joy</td>\n",
              "    </tr>\n",
              "    <tr>\n",
              "      <th>...</th>\n",
              "      <td>...</td>\n",
              "      <td>...</td>\n",
              "    </tr>\n",
              "    <tr>\n",
              "      <th>11354</th>\n",
              "      <td>i write these words i feel sweet baby kicks fr...</td>\n",
              "      <td>love</td>\n",
              "    </tr>\n",
              "    <tr>\n",
              "      <th>7685</th>\n",
              "      <td>im still not sure why reilly feels the need to...</td>\n",
              "      <td>surprise</td>\n",
              "    </tr>\n",
              "    <tr>\n",
              "      <th>2908</th>\n",
              "      <td>im still not sure why reilly feels the need to...</td>\n",
              "      <td>fear</td>\n",
              "    </tr>\n",
              "    <tr>\n",
              "      <th>9069</th>\n",
              "      <td>ive also made it with both sugar measurements ...</td>\n",
              "      <td>love</td>\n",
              "    </tr>\n",
              "    <tr>\n",
              "      <th>9596</th>\n",
              "      <td>ive also made it with both sugar measurements ...</td>\n",
              "      <td>joy</td>\n",
              "    </tr>\n",
              "  </tbody>\n",
              "</table>\n",
              "<p>104 rows × 2 columns</p>\n",
              "</div>"
            ],
            "text/plain": [
              "                                                    text   emotion\n",
              "502    i am feeling stressed and more than a bit anxious     anger\n",
              "11898  i am feeling stressed and more than a bit anxious   sadness\n",
              "8246   i am not amazing or great at photography but i...      love\n",
              "3508   i am not amazing or great at photography but i...       joy\n",
              "15705  i began to feel accepted by gaia on her own terms       joy\n",
              "...                                                  ...       ...\n",
              "11354  i write these words i feel sweet baby kicks fr...      love\n",
              "7685   im still not sure why reilly feels the need to...  surprise\n",
              "2908   im still not sure why reilly feels the need to...      fear\n",
              "9069   ive also made it with both sugar measurements ...      love\n",
              "9596   ive also made it with both sugar measurements ...       joy\n",
              "\n",
              "[104 rows x 2 columns]"
            ]
          },
          "metadata": {
            "tags": []
          },
          "execution_count": 11
        }
      ]
    },
    {
      "cell_type": "code",
      "metadata": {
        "colab": {
          "base_uri": "https://localhost:8080/"
        },
        "id": "QKT5enQS8NLF",
        "outputId": "4b2325d0-a5c1-4aba-eda8-be95aa7ab2cc"
      },
      "source": [
        "# Remoção dos textos duplicados e confirmação da limpeza\n",
        "\n",
        "emotion_df.drop_duplicates(\"text\", inplace=True)\n",
        "\n",
        "duplicat = round(sum(emotion_df.duplicated(\"text\")))\n",
        "print(f\"O dataset possui {duplicat} entradas de texto duplicadas.\")"
      ],
      "execution_count": null,
      "outputs": [
        {
          "output_type": "stream",
          "text": [
            "O dataset possui 0 entradas de texto duplicadas.\n"
          ],
          "name": "stdout"
        }
      ]
    },
    {
      "cell_type": "code",
      "metadata": {
        "colab": {
          "base_uri": "https://localhost:8080/"
        },
        "id": "bYxVNnRqzPmD",
        "outputId": "5f5628e7-53f3-4c15-9c61-1986a4441af2"
      },
      "source": [
        "# Contagem da distribuição das categorias de sentimentos\n",
        "\n",
        "emotion_df['emotion'].value_counts()"
      ],
      "execution_count": null,
      "outputs": [
        {
          "output_type": "execute_result",
          "data": {
            "text/plain": [
              "joy         6740\n",
              "sadness     5793\n",
              "anger       2703\n",
              "fear        2369\n",
              "love        1630\n",
              "surprise     713\n",
              "Name: emotion, dtype: int64"
            ]
          },
          "metadata": {
            "tags": []
          },
          "execution_count": 13
        }
      ]
    },
    {
      "cell_type": "code",
      "metadata": {
        "colab": {
          "base_uri": "https://localhost:8080/"
        },
        "id": "bYAocJFI8qFY",
        "outputId": "5679cd95-a80b-4500-c184-a7c69584e105"
      },
      "source": [
        "print(f'O dataset emotion_df tem {emotion_df.shape[0]} linhas e {emotion_df.shape[1]} colunas.')"
      ],
      "execution_count": null,
      "outputs": [
        {
          "output_type": "stream",
          "text": [
            "O dataset emotion_df tem 19948 linhas e 2 colunas.\n"
          ],
          "name": "stdout"
        }
      ]
    },
    {
      "cell_type": "code",
      "metadata": {
        "colab": {
          "base_uri": "https://localhost:8080/",
          "height": 429
        },
        "id": "T1KOLPhw8yzO",
        "outputId": "48e268a9-2f83-4a53-b9be-dc3350ac0fbf"
      },
      "source": [
        "# Gráfico da distribuição das categorias\n",
        "\n",
        "_ = fig = plt.figure(figsize=(8,5))\n",
        "_ = plt.suptitle('Distribuição dos sentimentos pelo dataset', fontsize=14)\n",
        "_ = sns.countplot(emotion_df['emotion'])"
      ],
      "execution_count": null,
      "outputs": [
        {
          "output_type": "stream",
          "text": [
            "/usr/local/lib/python3.7/dist-packages/seaborn/_decorators.py:43: FutureWarning: Pass the following variable as a keyword arg: x. From version 0.12, the only valid positional argument will be `data`, and passing other arguments without an explicit keyword will result in an error or misinterpretation.\n",
            "  FutureWarning\n"
          ],
          "name": "stderr"
        },
        {
          "output_type": "display_data",
          "data": {
            "image/png": "[encoded data removed]",
            "text/plain": [
              "<Figure size 576x360 with 1 Axes>"
            ]
          },
          "metadata": {
            "tags": [],
            "needs_background": "light"
          }
        }
      ]
    },
    {
      "cell_type": "code",
      "metadata": {
        "colab": {
          "base_uri": "https://localhost:8080/"
        },
        "id": "M76tdYOfqQmg",
        "outputId": "c0bfb4c1-f3fb-46a9-e602-178168480f46"
      },
      "source": [
        "# Distribuição percentual das categorias\n",
        "\n",
        "perc = round((emotion_df['emotion'].value_counts() * 100) / len(emotion_df['emotion']), 2)\n",
        "perc"
      ],
      "execution_count": null,
      "outputs": [
        {
          "output_type": "execute_result",
          "data": {
            "text/plain": [
              "joy         33.79\n",
              "sadness     29.04\n",
              "anger       13.55\n",
              "fear        11.88\n",
              "love         8.17\n",
              "surprise     3.57\n",
              "Name: emotion, dtype: float64"
            ]
          },
          "metadata": {
            "tags": []
          },
          "execution_count": 16
        }
      ]
    },
    {
      "cell_type": "code",
      "metadata": {
        "id": "Cuz-Bma-ILMI",
        "colab": {
          "base_uri": "https://localhost:8080/"
        },
        "outputId": "21c86b33-f276-452a-da84-d4ac7fcc634b"
      },
      "source": [
        "# Primeiras dez linhas do dataframe inalterado\n",
        "\n",
        "print(emotion_df.head(10))"
      ],
      "execution_count": null,
      "outputs": [
        {
          "output_type": "stream",
          "text": [
            "                                                text   emotion\n",
            "0                            i didnt feel humiliated   sadness\n",
            "1  i can go from feeling so hopeless to so damned...   sadness\n",
            "2   im grabbing a minute to post i feel greedy wrong     anger\n",
            "3  i am ever feeling nostalgic about the fireplac...      love\n",
            "4                               i am feeling grouchy     anger\n",
            "5  ive been feeling a little burdened lately wasn...   sadness\n",
            "6  ive been taking or milligrams or times recomme...  surprise\n",
            "7  i feel as confused about life as a teenager or...      fear\n",
            "8  i have been with petronas for years i feel tha...       joy\n",
            "9                                i feel romantic too      love\n"
          ],
          "name": "stdout"
        }
      ]
    },
    {
      "cell_type": "code",
      "metadata": {
        "colab": {
          "base_uri": "https://localhost:8080/"
        },
        "id": "MOjObpcP89kc",
        "outputId": "bd622407-e9d5-4563-cac2-9b4e8b371976"
      },
      "source": [
        "# Aplicação da função de transformação do texto na coluna de texto e impressão das dez primeiras linhas da dataset alterado\n",
        "\n",
        "processed_text = emotion_df['text'].apply(text_process)\n",
        "processed_text.head(10)"
      ],
      "execution_count": null,
      "outputs": [
        {
          "output_type": "execute_result",
          "data": {
            "text/plain": [
              "0                                      feel humiliated\n",
              "1    go feeling hopeless damned hopeful around some...\n",
              "2               grabbing minute post feel greedy wrong\n",
              "3    ever feeling nostalgic fireplace know still pr...\n",
              "4                                      feeling grouchy\n",
              "5                  feeling little burdened lately sure\n",
              "6    taking milligrams times recommended amount fal...\n",
              "7       feel confused life teenager jaded year old man\n",
              "8    petronas years feel petronas performed well ma...\n",
              "9                                        feel romantic\n",
              "Name: text, dtype: object"
            ]
          },
          "metadata": {
            "tags": []
          },
          "execution_count": 18
        }
      ]
    },
    {
      "cell_type": "code",
      "metadata": {
        "id": "8c9SK50BJHpr",
        "colab": {
          "base_uri": "https://localhost:8080/"
        },
        "outputId": "d01daa8e-0f49-4531-e890-ac033a4f043f"
      },
      "source": [
        "# Transformação das categorias em valores numéricos para entrada no algoritmo de Machine Learning\n",
        "\n",
        "ordinal_encoder = OrdinalEncoder()\n",
        "ord_encoder_emotion = ordinal_encoder.fit_transform(emotion_df[['emotion']])\n",
        "ordinal_encoder.categories_"
      ],
      "execution_count": null,
      "outputs": [
        {
          "output_type": "execute_result",
          "data": {
            "text/plain": [
              "[array(['anger', 'fear', 'joy', 'love', 'sadness', 'surprise'],\n",
              "       dtype=object)]"
            ]
          },
          "metadata": {
            "tags": []
          },
          "execution_count": 19
        }
      ]
    },
    {
      "cell_type": "code",
      "metadata": {
        "id": "U5BPhbOX9h_2"
      },
      "source": [
        "# Extração dos nomes das categorias na ordem do Encoder para possibilitar a identificação coreta na Matrix de Confusão\n",
        "\n",
        "nomes = ['anger', 'fear', 'joy', 'love', 'sadness', 'surprise']"
      ],
      "execution_count": null,
      "outputs": []
    },
    {
      "cell_type": "code",
      "metadata": {
        "colab": {
          "base_uri": "https://localhost:8080/"
        },
        "id": "aCNucxxY9iD1",
        "outputId": "81356482-b8d1-4288-b382-f531ef115593"
      },
      "source": [
        "# Instanciação do vetorizador do Bag of Words. Foi-se optado pela classificação binária dos tokens e máximo de features em 5000.\n",
        "# Outras configurações foram testadas mas não deram um resultado melhor.\n",
        "\n",
        "text = processed_text\n",
        "\n",
        "vectorizer = CountVectorizer(binary=True, min_df=2, max_df=0.85)\n",
        "X_bow = vectorizer.fit_transform(text)\n",
        "X_bow.toarray()\n",
        "print(f'A matriz BoW tem {X_bow.shape[0]} linhas por {X_bow.shape[1]} colunas e eh do tipo {type(X_bow)}')"
      ],
      "execution_count": null,
      "outputs": [
        {
          "output_type": "stream",
          "text": [
            "A matriz BoW tem 19948 linhas por 8080 colunas e eh do tipo <class 'scipy.sparse.csr.csr_matrix'>\n"
          ],
          "name": "stdout"
        }
      ]
    },
    {
      "cell_type": "code",
      "metadata": {
        "id": "07E0q-E3J3NT",
        "colab": {
          "base_uri": "https://localhost:8080/"
        },
        "outputId": "399cc994-15cf-4f51-db80-20e7bb8f2ec7"
      },
      "source": [
        "# Instanciação do vetorizador do TF-IDF. Foi-se optado pelo máximo de 5000 features.\n",
        "# Outras configurações foram testadas mas não deram um resultado melhor.\n",
        "\n",
        "tfidf_vect = TfidfVectorizer(min_df=2, max_df=0.85)\n",
        "X_tfidf = tfidf_vect.fit_transform(text)\n",
        "print(f'A matriz TF-IDF tem {X_tfidf.shape[0]} linhas por {X_tfidf.shape[1]} colunas e eh do tipo {type(X_tfidf.shape)}')"
      ],
      "execution_count": null,
      "outputs": [
        {
          "output_type": "stream",
          "text": [
            "A matriz TF-IDF tem 19948 linhas por 8080 colunas e eh do tipo <class 'tuple'>\n"
          ],
          "name": "stdout"
        }
      ]
    },
    {
      "cell_type": "code",
      "metadata": {
        "id": "PKDJ44S3oJux"
      },
      "source": [
        "# Sepearação do dataframe em sets de treino e teste.\n",
        "# X1 e y1 se referem ao vetorizados BoW. X2 e y2 se referem ao vetorizador TF-IDF\n",
        "\n",
        "X1_train, X1_test, y1_train, y1_test = train_test_split(X_bow, ord_encoder_emotion, test_size=0.25, random_state=RANDOM_STATE, stratify=ord_encoder_emotion)\n",
        "X2_train, X2_test, y2_train, y2_test = train_test_split(X_tfidf, ord_encoder_emotion, test_size=0.25, random_state=RANDOM_STATE, stratify=ord_encoder_emotion)\n",
        "\n",
        "y1_train = y1_train.ravel()\n",
        "y2_train = y2_train.ravel()"
      ],
      "execution_count": null,
      "outputs": []
    },
    {
      "cell_type": "code",
      "metadata": {
        "colab": {
          "base_uri": "https://localhost:8080/"
        },
        "id": "kIAf15gRQOIh",
        "outputId": "800a0267-26a8-4a61-ff25-446caf5c7db5"
      },
      "source": [
        "print(f'O dataset de treino possui {X1_train.shape[0]} linhas e o de teste {X1_test.shape[0]} linhas.')"
      ],
      "execution_count": null,
      "outputs": [
        {
          "output_type": "stream",
          "text": [
            "O dataset de treino possui 14961 linhas e o de teste 4987 linhas.\n"
          ],
          "name": "stdout"
        }
      ]
    },
    {
      "cell_type": "code",
      "metadata": {
        "colab": {
          "base_uri": "https://localhost:8080/",
          "height": 546
        },
        "id": "87Zk7Gz1pQ6l",
        "outputId": "c36525fc-6e2a-41b0-fcbf-dd23f8dee37e"
      },
      "source": [
        "# Aplicação do algoritmo de Machine Learning Logistic Regression para o BoW e para o TF-IDF\n",
        "\n",
        "print('Metricas para BoW:')\n",
        "reglog = LogisticRegression(max_iter=1000, fit_intercept=True)\n",
        "reglog.fit(X1_train, y1_train)\n",
        "y1_pred = reglog.predict(X1_test)\n",
        "y_reglog = y1_pred\n",
        "mostra_metricas(y1_test, y1_pred)\n",
        "\n",
        "print('\\nMetricas para TF-IDF:')\n",
        "reglog.fit(X2_train, y2_train)\n",
        "y2_pred = reglog.predict(X2_test)\n",
        "mostra_metricas(y2_test, y2_pred)\n",
        "\n",
        "print_confusion_matrix(y1_test, y1_pred, y2_test, y2_pred)"
      ],
      "execution_count": null,
      "outputs": [
        {
          "output_type": "stream",
          "text": [
            "Metricas para BoW:\n",
            "Acurácia:  0.8953278524162823\n",
            "F1-Score: 0.8944762311140775\n",
            "\n",
            "Metricas para TF-IDF:\n",
            "Acurácia:  0.8734710246641267\n",
            "F1-Score: 0.869377242386824\n",
            "\n",
            "Matriz de confusão:\n"
          ],
          "name": "stdout"
        },
        {
          "output_type": "display_data",
          "data": {
            "image/png": "[encoded data removed]",
            "text/plain": [
              "<Figure size 1080x360 with 2 Axes>"
            ]
          },
          "metadata": {
            "tags": [],
            "needs_background": "light"
          }
        }
      ]
    },
    {
      "cell_type": "code",
      "metadata": {
        "id": "lHtge3PuBGti",
        "colab": {
          "base_uri": "https://localhost:8080/",
          "height": 546
        },
        "outputId": "fe2a6680-046c-4e96-9da7-e7848fb1ca3b"
      },
      "source": [
        "# Aplicação do algoritmo de Machine Learning Random Forest para o BoW e para o TF-IDF\n",
        "\n",
        "print('Metricas para BoW:')\n",
        "rf = RandomForestClassifier()\n",
        "rf.fit(X1_train, y1_train)\n",
        "y1_pred = rf.predict(X1_test)\n",
        "y_rf = y1_pred\n",
        "mostra_metricas(y1_test, y1_pred)\n",
        "\n",
        "print('\\nMetricas para TF-IDF:')\n",
        "rf.fit(X2_train, y2_train)\n",
        "y2_pred = rf.predict(X2_test)\n",
        "mostra_metricas(y2_test, y2_pred)\n",
        "\n",
        "print_confusion_matrix(y1_test, y1_pred, y2_test, y2_pred)"
      ],
      "execution_count": null,
      "outputs": [
        {
          "output_type": "stream",
          "text": [
            "Metricas para BoW:\n",
            "Acurácia:  0.8893122117505514\n",
            "F1-Score: 0.8897166554538151\n",
            "\n",
            "Metricas para TF-IDF:\n",
            "Acurácia:  0.8867054341287347\n",
            "F1-Score: 0.8859165202846515\n",
            "\n",
            "Matriz de confusão:\n"
          ],
          "name": "stdout"
        },
        {
          "output_type": "display_data",
          "data": {
            "image/png": "[encoded data removed]",
            "text/plain": [
              "<Figure size 1080x360 with 2 Axes>"
            ]
          },
          "metadata": {
            "tags": [],
            "needs_background": "light"
          }
        }
      ]
    },
    {
      "cell_type": "markdown",
      "metadata": {
        "id": "t__955M9-giG"
      },
      "source": [
        "Os algoritmos de Machine Learning abaixo foram testados e retornaram resultados muito inferiores aos dois anteriores, sendo mantidos aqui apenas comentados, caso haja interesse de sua execução posterior."
      ]
    },
    {
      "cell_type": "code",
      "metadata": {
        "colab": {
          "base_uri": "https://localhost:8080/",
          "height": 52
        },
        "id": "ewfZlKlFvK5U",
        "outputId": "942f2098-2cf0-4f82-d101-6d210c1c3e11"
      },
      "source": [
        "'''\n",
        "print('Metricas para BoW:')\n",
        "knn = KNeighborsClassifier()\n",
        "knn.fit(X1_train, y1_train)\n",
        "y1_pred = knn.predict(X1_test)\n",
        "mostra_metricas(y1_test, y1_pred)\n",
        "\n",
        "print('\\nMetricas para TF-IDF:')\n",
        "knn.fit(X2_train, y2_train)\n",
        "y2_pred = knn.predict(X2_test)\n",
        "mostra_metricas(y2_test, y2_pred)\n",
        "\n",
        "print_confusion_matrix(y1_test, y1_pred, y2_test, y2_pred)\n",
        "'''"
      ],
      "execution_count": null,
      "outputs": [
        {
          "output_type": "execute_result",
          "data": {
            "application/vnd.google.colaboratory.intrinsic+json": {
              "type": "string"
            },
            "text/plain": [
              "\"\\nprint('Metricas para BoW:')\\nknn = KNeighborsClassifier()\\nknn.fit(X1_train, y1_train)\\ny1_pred = knn.predict(X1_test)\\nmostra_metricas(y1_test, y1_pred)\\n\\nprint('\\nMetricas para TF-IDF:')\\nknn.fit(X2_train, y2_train)\\ny2_pred = knn.predict(X2_test)\\nmostra_metricas(y2_test, y2_pred)\\n\\nprint_confusion_matrix(y1_test, y1_pred, y2_test, y2_pred)\\n\""
            ]
          },
          "metadata": {
            "tags": []
          },
          "execution_count": 27
        }
      ]
    },
    {
      "cell_type": "code",
      "metadata": {
        "id": "ITpEYg8AvRg8"
      },
      "source": [
        ""
      ],
      "execution_count": null,
      "outputs": []
    },
    {
      "cell_type": "code",
      "metadata": {
        "colab": {
          "base_uri": "https://localhost:8080/",
          "height": 52
        },
        "id": "ekJxv9yNv-4v",
        "outputId": "939e1685-6d63-4471-87cb-3ad7b452c1e1"
      },
      "source": [
        "'''\n",
        "print('Metricas para BoW:')\n",
        "dt = DecisionTreeClassifier()\n",
        "dt.fit(X1_train, y1_train)\n",
        "y1_pred = dt.predict(X1_test)\n",
        "mostra_metricas(y1_test, y1_pred)\n",
        "\n",
        "print('\\nMetricas para TF-IDF:')\n",
        "dt.fit(X2_train, y2_train)\n",
        "y2_pred = dt.predict(X2_test)\n",
        "mostra_metricas(y2_test, y2_pred)\n",
        "\n",
        "print_confusion_matrix(y1_test, y1_pred, y2_test, y2_pred)\n",
        "'''"
      ],
      "execution_count": null,
      "outputs": [
        {
          "output_type": "execute_result",
          "data": {
            "application/vnd.google.colaboratory.intrinsic+json": {
              "type": "string"
            },
            "text/plain": [
              "\"\\nprint('Metricas para BoW:')\\ndt = DecisionTreeClassifier()\\ndt.fit(X1_train, y1_train)\\ny1_pred = dt.predict(X1_test)\\nmostra_metricas(y1_test, y1_pred)\\n\\nprint('\\nMetricas para TF-IDF:')\\ndt.fit(X2_train, y2_train)\\ny2_pred = dt.predict(X2_test)\\nmostra_metricas(y2_test, y2_pred)\\n\\nprint_confusion_matrix(y1_test, y1_pred, y2_test, y2_pred)\\n\""
            ]
          },
          "metadata": {
            "tags": []
          },
          "execution_count": 28
        }
      ]
    },
    {
      "cell_type": "code",
      "metadata": {
        "id": "_cd-tTBEvK7o"
      },
      "source": [
        ""
      ],
      "execution_count": null,
      "outputs": []
    },
    {
      "cell_type": "code",
      "metadata": {
        "colab": {
          "base_uri": "https://localhost:8080/",
          "height": 52
        },
        "id": "kNmQe0cGxlBg",
        "outputId": "4ca04a33-53dd-44c5-cd4f-04e62c56bdd9"
      },
      "source": [
        "'''\n",
        "print('Metricas para BoW:')\n",
        "mnb = MultinomialNB()\n",
        "mnb.fit(X1_train.toarray(), y1_train)\n",
        "y1_pred = mnb.predict(X1_test)\n",
        "mostra_metricas(y1_test, y1_pred)\n",
        "\n",
        "print('\\nMetricas para TF-IDF:')\n",
        "mnb.fit(X2_train.toarray(), y2_train)\n",
        "y2_pred = mnb.predict(X2_test)\n",
        "mostra_metricas(y2_test, y2_pred)\n",
        "\n",
        "print_confusion_matrix(y1_test, y1_pred, y2_test, y2_pred)\n",
        "'''"
      ],
      "execution_count": null,
      "outputs": [
        {
          "output_type": "execute_result",
          "data": {
            "application/vnd.google.colaboratory.intrinsic+json": {
              "type": "string"
            },
            "text/plain": [
              "\"\\nprint('Metricas para BoW:')\\nmnb = MultinomialNB()\\nmnb.fit(X1_train.toarray(), y1_train)\\ny1_pred = mnb.predict(X1_test)\\nmostra_metricas(y1_test, y1_pred)\\n\\nprint('\\nMetricas para TF-IDF:')\\nmnb.fit(X2_train.toarray(), y2_train)\\ny2_pred = mnb.predict(X2_test)\\nmostra_metricas(y2_test, y2_pred)\\n\\nprint_confusion_matrix(y1_test, y1_pred, y2_test, y2_pred)\\n\""
            ]
          },
          "metadata": {
            "tags": []
          },
          "execution_count": 29
        }
      ]
    },
    {
      "cell_type": "code",
      "metadata": {
        "id": "hK8ucY1OCT1H"
      },
      "source": [
        ""
      ],
      "execution_count": null,
      "outputs": []
    },
    {
      "cell_type": "code",
      "metadata": {
        "colab": {
          "base_uri": "https://localhost:8080/",
          "height": 52
        },
        "id": "hkEhLSznDOYf",
        "outputId": "63ce27b9-47f2-4307-e431-e1e5a1488560"
      },
      "source": [
        "'''\n",
        "print('Metricas para BoW:')\n",
        "svc = SVC()\n",
        "svc.fit(X1_train, y1_train)\n",
        "y1_pred = svc.predict(X1_test)\n",
        "mostra_metricas(y1_test, y1_pred)\n",
        "\n",
        "print('\\nMetricas para TF-IDF:')\n",
        "svc.fit(X2_train, y2_train)\n",
        "y2_pred = svc.predict(X2_test)\n",
        "mostra_metricas(y2_test, y2_pred)\n",
        "\n",
        "print_confusion_matrix(y1_test, y1_pred, y2_test, y2_pred)\n",
        "'''"
      ],
      "execution_count": null,
      "outputs": [
        {
          "output_type": "execute_result",
          "data": {
            "application/vnd.google.colaboratory.intrinsic+json": {
              "type": "string"
            },
            "text/plain": [
              "\"\\nprint('Metricas para BoW:')\\nsvc = SVC()\\nsvc.fit(X1_train, y1_train)\\ny1_pred = svc.predict(X1_test)\\nmostra_metricas(y1_test, y1_pred)\\n\\nprint('\\nMetricas para TF-IDF:')\\nsvc.fit(X2_train, y2_train)\\ny2_pred = svc.predict(X2_test)\\nmostra_metricas(y2_test, y2_pred)\\n\\nprint_confusion_matrix(y1_test, y1_pred, y2_test, y2_pred)\\n\""
            ]
          },
          "metadata": {
            "tags": []
          },
          "execution_count": 30
        }
      ]
    },
    {
      "cell_type": "code",
      "metadata": {
        "id": "q7O4QOFLD_I3"
      },
      "source": [
        ""
      ],
      "execution_count": null,
      "outputs": []
    },
    {
      "cell_type": "code",
      "metadata": {
        "colab": {
          "base_uri": "https://localhost:8080/",
          "height": 427
        },
        "id": "-QayWKgVD_Pz",
        "outputId": "e443e7a2-2768-40fb-ec4d-c2bec700eee3"
      },
      "source": [
        "# Comparação entre os melhores modelos.\n",
        "# O vetorizador BoW retornou melhores resultados e por isso foi selecionado para continuidade da atividade\n",
        "\n",
        "print(\"\\nMatriz de confusão:\")\n",
        "\n",
        "fig = plt.figure(figsize=(15,5))\n",
        "plt.subplots_adjust(wspace=0.25, hspace=0.05)\n",
        "plt.suptitle('Comparativo entre os algoritmos Logistic Regression e Random Forest\\n\\n', fontsize=16)\n",
        "\n",
        "plt.subplot(1, 2, 1)\n",
        "sns.heatmap(confusion_matrix(y1_test, y_reglog), annot=True, cbar=False, fmt='d', xticklabels=nomes, yticklabels=nomes)\n",
        "plt.title('Logistic Regression')\n",
        "plt.xticks(rotation=90)\n",
        "plt.yticks(rotation=0)\n",
        "\n",
        "plt.subplot(1, 2, 2)\n",
        "sns.heatmap(confusion_matrix(y1_test, y_rf), annot=True, cbar=False, fmt='d', xticklabels=nomes, yticklabels=nomes)\n",
        "plt.title('Random Forest')\n",
        "plt.xticks(rotation=90)\n",
        "plt.yticks(rotation=0) \n",
        "\n",
        "plt.show()"
      ],
      "execution_count": null,
      "outputs": [
        {
          "output_type": "stream",
          "text": [
            "\n",
            "Matriz de confusão:\n"
          ],
          "name": "stdout"
        },
        {
          "output_type": "display_data",
          "data": {
            "image/png": "[encoded data removed]",
            "text/plain": [
              "<Figure size 1080x360 with 2 Axes>"
            ]
          },
          "metadata": {
            "tags": [],
            "needs_background": "light"
          }
        }
      ]
    },
    {
      "cell_type": "code",
      "metadata": {
        "id": "FYQVNW1Gg1t2"
      },
      "source": [
        ""
      ],
      "execution_count": null,
      "outputs": []
    },
    {
      "cell_type": "code",
      "metadata": {
        "colab": {
          "base_uri": "https://localhost:8080/"
        },
        "id": "3OaS7XwvQ_hs",
        "outputId": "82ad9e91-0c5d-46b6-967a-3af3df4c5864"
      },
      "source": [
        "anger = fear = joy = love = sadness = surprise = 0\n",
        "\n",
        "for i in (y1_test):\n",
        "    if i == 0:\n",
        "        anger = anger + 1\n",
        "    elif i == 1:\n",
        "        fear = fear + 1\n",
        "    elif i == 2:\n",
        "        joy = joy + 1\n",
        "    elif i == 3:\n",
        "        love = love + 1\n",
        "    elif i == 4:\n",
        "        sadness = sadness + 1\n",
        "    elif i == 5:\n",
        "        surprise = surprise + 1\n",
        "\n",
        "print(f'Anger: {anger}, Fear: {fear}, Joy: {joy}, Love: {love}, Sadness: {sadness}, Surprise: {surprise}' )"
      ],
      "execution_count": null,
      "outputs": [
        {
          "output_type": "stream",
          "text": [
            "Anger: 676, Fear: 592, Joy: 1685, Love: 408, Sadness: 1448, Surprise: 178\n"
          ],
          "name": "stdout"
        }
      ]
    },
    {
      "cell_type": "code",
      "metadata": {
        "colab": {
          "base_uri": "https://localhost:8080/"
        },
        "id": "ZvJD4JjZ0P1i",
        "outputId": "5f4bf2c0-327f-4baf-915c-eed65f81de89"
      },
      "source": [
        "# Devido ao fato do algoritmo estar correlacionando fortemente os sentimentos love e joy e também pelo fato\n",
        "# de se supor que a pessoa que ama estah feliz (pelo menos deveria...), as entradas dos dois entimentos foram unidos no sentimento joy\n",
        "\n",
        "# Da mesma forma, o mesmo foi feito com os sentimentos fear e surprise.\n",
        "\n",
        "new_emotion_df = emotion_df.replace({'emotion':'love'}, 'joy')\n",
        "\n",
        "new_emotion_df['emotion'].value_counts()"
      ],
      "execution_count": null,
      "outputs": [
        {
          "output_type": "execute_result",
          "data": {
            "text/plain": [
              "joy         8370\n",
              "sadness     5793\n",
              "anger       2703\n",
              "fear        2369\n",
              "surprise     713\n",
              "Name: emotion, dtype: int64"
            ]
          },
          "metadata": {
            "tags": []
          },
          "execution_count": 33
        }
      ]
    },
    {
      "cell_type": "code",
      "metadata": {
        "id": "jN6ZwV4C1VTf",
        "colab": {
          "base_uri": "https://localhost:8080/"
        },
        "outputId": "402bb60c-a023-4da0-e62a-495b56bf25d4"
      },
      "source": [
        "print(f'O dataset alterado possui {new_emotion_df.shape[0]} linhas por {new_emotion_df.shape[1]} colunas.')"
      ],
      "execution_count": null,
      "outputs": [
        {
          "output_type": "stream",
          "text": [
            "O dataset alterado possui 19948 linhas por 2 colunas.\n"
          ],
          "name": "stdout"
        }
      ]
    },
    {
      "cell_type": "code",
      "metadata": {
        "colab": {
          "base_uri": "https://localhost:8080/"
        },
        "id": "TlQcCBJr0yX-",
        "outputId": "71c67c60-03cc-4145-e00f-5dd38fb52bcf"
      },
      "source": [
        "# Transformação das categorias do dataset alterado para variáveis numéricas\n",
        "\n",
        "ordinal_encoder = OrdinalEncoder()\n",
        "ord_encoder_emotion_alt = ordinal_encoder.fit_transform(new_emotion_df[['emotion']])\n",
        "ordinal_encoder.categories_"
      ],
      "execution_count": null,
      "outputs": [
        {
          "output_type": "execute_result",
          "data": {
            "text/plain": [
              "[array(['anger', 'fear', 'joy', 'sadness', 'surprise'], dtype=object)]"
            ]
          },
          "metadata": {
            "tags": []
          },
          "execution_count": 35
        }
      ]
    },
    {
      "cell_type": "code",
      "metadata": {
        "id": "7zK6K7C6045K"
      },
      "source": [
        "# Separação do dataframe alterado em sets de treino e teste. Apenas o vetorizador BoW será utilizado pois demonstrou melhores métricas\n",
        "\n",
        "X1_train_alt, X1_test_alt, y1_train_alt, y1_test_alt = train_test_split(X_bow, ord_encoder_emotion_alt, test_size=0.25, random_state=RANDOM_STATE, stratify=ord_encoder_emotion_alt)\n",
        "y1_train_alt = y1_train_alt.ravel()"
      ],
      "execution_count": null,
      "outputs": []
    },
    {
      "cell_type": "code",
      "metadata": {
        "id": "UXpSK-Vc05mB"
      },
      "source": [
        "nomes_alt = ['anger', 'fear', 'joy', 'sadness', 'surprise']"
      ],
      "execution_count": null,
      "outputs": []
    },
    {
      "cell_type": "code",
      "metadata": {
        "colab": {
          "base_uri": "https://localhost:8080/",
          "height": 546
        },
        "id": "kpca50Ft05pY",
        "outputId": "02800340-1dee-4ffd-e901-b9c336621788"
      },
      "source": [
        "print('Metricas para Logistic Regression:')\n",
        "reglog2 = LogisticRegression(max_iter=1000, fit_intercept=True)\n",
        "reglog2.fit(X1_train_alt, y1_train_alt)\n",
        "reglog2_y1_pred = reglog2.predict(X1_test_alt)\n",
        "mostra_metricas(y1_test_alt, reglog2_y1_pred)\n",
        "\n",
        "print('\\nMetricas para Random Forest:')\n",
        "rf2 = RandomForestClassifier()\n",
        "rf2.fit(X1_train_alt, y1_train_alt)\n",
        "rf2_y1_pred = rf2.predict(X1_test_alt)\n",
        "mostra_metricas(y1_test_alt, rf2_y1_pred)\n",
        "\n",
        "\n",
        "print(\"\\nMatriz de confusão:\")\n",
        "\n",
        "fig = plt.figure(figsize=(15,5))\n",
        "plt.subplots_adjust(wspace=0.25, hspace=0.05)\n",
        "plt.suptitle('Comparativo entre os algoritmos Logistic Regression e Random Forest para o dataset alterado\\n\\n', fontsize=16)\n",
        "\n",
        "plt.subplot(1, 2, 1)\n",
        "sns.heatmap(confusion_matrix(y1_test_alt, reglog2_y1_pred), annot=True, cbar=False, fmt='d', xticklabels=nomes_alt, yticklabels=nomes_alt)\n",
        "plt.title('Logistic Regression')\n",
        "plt.xticks(rotation=90)\n",
        "plt.yticks(rotation=0)\n",
        "\n",
        "plt.subplot(1, 2, 2)\n",
        "sns.heatmap(confusion_matrix(y1_test_alt, rf2_y1_pred), annot=True, cbar=False, fmt='d', xticklabels=nomes_alt, yticklabels=nomes_alt)\n",
        "plt.title('Random Forest')\n",
        "plt.xticks(rotation=90)\n",
        "plt.yticks(rotation=0) \n",
        "\n",
        "plt.show()"
      ],
      "execution_count": null,
      "outputs": [
        {
          "output_type": "stream",
          "text": [
            "Metricas para Logistic Regression:\n",
            "Acurácia:  0.9225987567675957\n",
            "F1-Score: 0.9220419387357205\n",
            "\n",
            "Metricas para Random Forest:\n",
            "Acurácia:  0.9157810306797673\n",
            "F1-Score: 0.9160893670653165\n",
            "\n",
            "Matriz de confusão:\n"
          ],
          "name": "stdout"
        },
        {
          "output_type": "display_data",
          "data": {
            "image/png": "[encoded data removed]",
            "text/plain": [
              "<Figure size 1080x360 with 2 Axes>"
            ]
          },
          "metadata": {
            "tags": [],
            "needs_background": "light"
          }
        }
      ]
    },
    {
      "cell_type": "code",
      "metadata": {
        "id": "j2Ug4yI5AlIn",
        "colab": {
          "base_uri": "https://localhost:8080/",
          "height": 427
        },
        "outputId": "cf4aaec7-3ffc-42f5-b140-822117a5d423"
      },
      "source": [
        "# A variável love possui 408 entradas no dataset original, sendo que no dataset alterado a variavel joy foi somada em\n",
        "# 455 valores. As demais variáveis tiveram um leve incremento de acertos.\n",
        "\n",
        "print(\"\\nMatriz de confusão:\")\n",
        "\n",
        "fig = plt.figure(figsize=(15,5))\n",
        "plt.subplots_adjust(wspace=0.25, hspace=0.05)\n",
        "plt.suptitle('Comparativo entre os datasets original e alterado para o algoritmo Logistic Regression\\n', fontsize=16)\n",
        "\n",
        "plt.subplot(1, 2, 1)\n",
        "sns.heatmap(confusion_matrix(y1_test, y_reglog), annot=True, cbar=False, fmt='d', xticklabels=nomes, yticklabels=nomes)\n",
        "plt.title('Dataset original')\n",
        "plt.xticks(rotation=90)\n",
        "plt.yticks(rotation=0)\n",
        "\n",
        "plt.subplot(1, 2, 2)\n",
        "sns.heatmap(confusion_matrix(y1_test_alt, reglog2_y1_pred), annot=True, cbar=False, fmt='d', xticklabels=nomes_alt, yticklabels=nomes_alt)\n",
        "plt.title('Dataset alterado')\n",
        "plt.xticks(rotation=90)\n",
        "plt.yticks(rotation=0) \n",
        "\n",
        "plt.show()"
      ],
      "execution_count": null,
      "outputs": [
        {
          "output_type": "stream",
          "text": [
            "\n",
            "Matriz de confusão:\n"
          ],
          "name": "stdout"
        },
        {
          "output_type": "display_data",
          "data": {
            "image/png": "[encoded data removed]",
            "text/plain": [
              "<Figure size 1080x360 with 2 Axes>"
            ]
          },
          "metadata": {
            "tags": [],
            "needs_background": "light"
          }
        }
      ]
    },
    {
      "cell_type": "code",
      "metadata": {
        "id": "jgtqphK9AlRr"
      },
      "source": [
        "results = {0:'anger', 1:'fear', 2:'joy', 3:'love', 4:'sadness', 5:'surprise'}\n",
        "results_adj = {0:'anger', 1:'fear', 2:'joy', 3:'sadness', 4:'surprise'}"
      ],
      "execution_count": null,
      "outputs": []
    },
    {
      "cell_type": "code",
      "metadata": {
        "id": "G1Nkg_A7fbgf"
      },
      "source": [
        "def nova_predicao(texto):\n",
        "    texto_vetorizado = vectorizer.transform([texto])\n",
        "    pred_reglog_bow = reglog.predict(texto_vetorizado)\n",
        "\n",
        "    print(f'A classificação para RegLog com o dataframe completo foi: {results.get(pred_reglog_bow[0])}')"
      ],
      "execution_count": null,
      "outputs": []
    },
    {
      "cell_type": "code",
      "metadata": {
        "id": "kseI1-NZ1rP_"
      },
      "source": [
        "def nova_predicao_adj(texto):\n",
        "    texto_vetorizado = vectorizer.transform([texto])\n",
        "    pred2_reglog_bow_alt = reglog2.predict(texto_vetorizado)\n",
        "\n",
        "    print(f'\\nA classificação para RegLog com o dataframe alterado foi: {results_adj.get(pred2_reglog_bow_alt[0])}')"
      ],
      "execution_count": null,
      "outputs": []
    },
    {
      "cell_type": "code",
      "metadata": {
        "colab": {
          "base_uri": "https://localhost:8080/"
        },
        "id": "RRTW9c9df99e",
        "outputId": "a817566d-07d8-425b-baef-805662eba314"
      },
      "source": [
        "# Drastic Actions - Bad Religion\n",
        "nova_predicao(\"I heard a word, suicide And not from one, but from thousands that died\")\n",
        "nova_predicao_adj(\"I heard a word, suicide And not from one, but from thousands that died\")"
      ],
      "execution_count": null,
      "outputs": [
        {
          "output_type": "stream",
          "text": [
            "A classificação para RegLog com o dataframe completo foi: sadness\n",
            "\n",
            "A classificação para RegLog com o dataframe alterado foi: sadness\n"
          ],
          "name": "stdout"
        }
      ]
    },
    {
      "cell_type": "code",
      "metadata": {
        "colab": {
          "base_uri": "https://localhost:8080/"
        },
        "id": "P97QJR75w96I",
        "outputId": "9af09bbd-044d-4dac-acfe-5ea181ea3775"
      },
      "source": [
        "# Chlorine - Twenty One Pilots\n",
        "nova_predicao(\"I'm so sorry, I forgot you Let me catch you up to speed I've been tested like the ends of A weathered flag that's by the sea\")\n",
        "nova_predicao_adj(\"I'm so sorry, I forgot you Let me catch you up to speed I've been tested like the ends of A weathered flag that's by the sea\")"
      ],
      "execution_count": null,
      "outputs": [
        {
          "output_type": "stream",
          "text": [
            "A classificação para RegLog com o dataframe completo foi: sadness\n",
            "\n",
            "A classificação para RegLog com o dataframe alterado foi: sadness\n"
          ],
          "name": "stdout"
        }
      ]
    },
    {
      "cell_type": "code",
      "metadata": {
        "colab": {
          "base_uri": "https://localhost:8080/"
        },
        "id": "Sm4PJRtg3LbT",
        "outputId": "c11fd317-7bae-41f6-a01e-40e3a41ee5db"
      },
      "source": [
        "# Rockaway Beach - Ramones\n",
        "nova_predicao(\"Chewin' out a rhythm on my bubble gum The sun is out and I want some It's not hard, not far to reach We can hitch a ride to Rockaway Beach\")\n",
        "nova_predicao_adj(\"Chewin' out a rhythm on my bubble gum The sun is out and I want some It's not hard, not far to reach We can hitch a ride to Rockaway Beach\")"
      ],
      "execution_count": null,
      "outputs": [
        {
          "output_type": "stream",
          "text": [
            "A classificação para RegLog com o dataframe completo foi: joy\n",
            "\n",
            "A classificação para RegLog com o dataframe alterado foi: joy\n"
          ],
          "name": "stdout"
        }
      ]
    },
    {
      "cell_type": "code",
      "metadata": {
        "colab": {
          "base_uri": "https://localhost:8080/"
        },
        "id": "GpcVbeJ-6o4j",
        "outputId": "5bd0b1cb-ffee-46a1-afdf-cb3f70704880"
      },
      "source": [
        "# Pennyroyal Tea - Nirvana\n",
        "nova_predicao(\"I'm so tired I can't sleep I'm a liar and a thief\")\n",
        "nova_predicao_adj(\"I'm so tired I can't sleep I'm a liar and a thief\")"
      ],
      "execution_count": null,
      "outputs": [
        {
          "output_type": "stream",
          "text": [
            "A classificação para RegLog com o dataframe completo foi: sadness\n",
            "\n",
            "A classificação para RegLog com o dataframe alterado foi: anger\n"
          ],
          "name": "stdout"
        }
      ]
    },
    {
      "cell_type": "code",
      "metadata": {
        "colab": {
          "base_uri": "https://localhost:8080/"
        },
        "id": "LF8NtlUN9lw3",
        "outputId": "070161b3-4f4f-494d-b5be-47dea411d97e"
      },
      "source": [
        "# Lithium - Nirvana\n",
        "nova_predicao(\"I'm so ugly, that's okay, 'cause so are you Broke our mirrors\")\n",
        "nova_predicao_adj(\"I'm so ugly, that's okay, 'cause so are you Broke our mirrors\")"
      ],
      "execution_count": null,
      "outputs": [
        {
          "output_type": "stream",
          "text": [
            "A classificação para RegLog com o dataframe completo foi: sadness\n",
            "\n",
            "A classificação para RegLog com o dataframe alterado foi: sadness\n"
          ],
          "name": "stdout"
        }
      ]
    },
    {
      "cell_type": "code",
      "metadata": {
        "colab": {
          "base_uri": "https://localhost:8080/"
        },
        "id": "nTmct1h--H__",
        "outputId": "1ce3e0ee-9c35-4111-8934-77a6845e8045"
      },
      "source": [
        "# Struck a Nerve - Bad Religion\n",
        "nova_predicao(\"Everyday I wander in negative disposition As I'm bombarded by superlatives\")\n",
        "nova_predicao_adj(\"Everyday I wander in negative disposition As I'm bombarded by superlatives\")"
      ],
      "execution_count": null,
      "outputs": [
        {
          "output_type": "stream",
          "text": [
            "A classificação para RegLog com o dataframe completo foi: joy\n",
            "\n",
            "A classificação para RegLog com o dataframe alterado foi: joy\n"
          ],
          "name": "stdout"
        }
      ]
    },
    {
      "cell_type": "code",
      "metadata": {
        "colab": {
          "base_uri": "https://localhost:8080/"
        },
        "id": "L3QdIlnsAZ5U",
        "outputId": "ae68f4df-88cb-4bf2-8e04-18ad527e8517"
      },
      "source": [
        "# Sliver - Nirvana\n",
        "nova_predicao(\"After dinner I had ice cream I fell asleep and watched TV I woke up in my mother's arms\")\n",
        "nova_predicao_adj(\"After dinner I had ice cream I fell asleep and watched TV I woke up in my mother's arms\")"
      ],
      "execution_count": null,
      "outputs": [
        {
          "output_type": "stream",
          "text": [
            "A classificação para RegLog com o dataframe completo foi: sadness\n",
            "\n",
            "A classificação para RegLog com o dataframe alterado foi: anger\n"
          ],
          "name": "stdout"
        }
      ]
    },
    {
      "cell_type": "code",
      "metadata": {
        "colab": {
          "base_uri": "https://localhost:8080/"
        },
        "id": "mdpTX1ALDiGJ",
        "outputId": "f6b9b532-54fc-4ba5-aa4d-2fd8beca8bfb"
      },
      "source": [
        "# Falling Away From Me - Korn\n",
        "nova_predicao(\"Hey, I'm feeling tired My time has gone today You flirt with suicide Sometimes that's okay\")\n",
        "nova_predicao_adj(\"Hey, I'm feeling tired My time has gone today You flirt with suicide Sometimes that's okay\")"
      ],
      "execution_count": null,
      "outputs": [
        {
          "output_type": "stream",
          "text": [
            "A classificação para RegLog com o dataframe completo foi: sadness\n",
            "\n",
            "A classificação para RegLog com o dataframe alterado foi: joy\n"
          ],
          "name": "stdout"
        }
      ]
    },
    {
      "cell_type": "code",
      "metadata": {
        "colab": {
          "base_uri": "https://localhost:8080/"
        },
        "id": "rdc8QwvhD5wz",
        "outputId": "99116f14-c0d0-471f-fa04-b6cac1fee463"
      },
      "source": [
        "# Romeo and Julliet - Dire Straits\n",
        "nova_predicao(\"You said I love you like the stars above, I'll love you 'til I die\")\n",
        "nova_predicao_adj(\"You said I love you like the stars above, I'll love you 'til I die\")"
      ],
      "execution_count": null,
      "outputs": [
        {
          "output_type": "stream",
          "text": [
            "A classificação para RegLog com o dataframe completo foi: love\n",
            "\n",
            "A classificação para RegLog com o dataframe alterado foi: joy\n"
          ],
          "name": "stdout"
        }
      ]
    },
    {
      "cell_type": "code",
      "metadata": {
        "id": "LhhmsRT3HEJc",
        "colab": {
          "base_uri": "https://localhost:8080/"
        },
        "outputId": "3a40f217-2aa9-4b0f-d2a2-186ff6fc048a"
      },
      "source": [
        "# Angels - Rob Williams\n",
        "nova_predicao(\"And through it all she offers me protection A lot of love and affection Whether I'm right or wrong\")\n",
        "nova_predicao_adj(\"And through it all she offers me protection A lot of love and affection Whether I'm right or wrong\")"
      ],
      "execution_count": null,
      "outputs": [
        {
          "output_type": "stream",
          "text": [
            "A classificação para RegLog com o dataframe completo foi: sadness\n",
            "\n",
            "A classificação para RegLog com o dataframe alterado foi: fear\n"
          ],
          "name": "stdout"
        }
      ]
    },
    {
      "cell_type": "code",
      "metadata": {
        "colab": {
          "base_uri": "https://localhost:8080/"
        },
        "id": "D4egMI4Fym5i",
        "outputId": "476c641b-79f7-4b72-c9d8-3506eb0f1c2d"
      },
      "source": [
        "# Lose your Head - Bad Religion\n",
        "nova_predicao(\"And though recent developments seem like bad news for humanity Self-pity is always a case of mistake identity\")\n",
        "nova_predicao_adj(\"And though recent developments seem like bad news for humanity Self-pity is always a case of mistake identity\")"
      ],
      "execution_count": null,
      "outputs": [
        {
          "output_type": "stream",
          "text": [
            "A classificação para RegLog com o dataframe completo foi: sadness\n",
            "\n",
            "A classificação para RegLog com o dataframe alterado foi: sadness\n"
          ],
          "name": "stdout"
        }
      ]
    },
    {
      "cell_type": "code",
      "metadata": {
        "id": "UxtWZbHkyvxa",
        "colab": {
          "base_uri": "https://localhost:8080/"
        },
        "outputId": "232cedfe-601e-4b47-dad0-f1208b2bf726"
      },
      "source": [
        "# I don't Want to Miss a Thing - Aerosmith\n",
        "nova_predicao(\"And I just want to hold you close I feel your heart so close to mine And just stay here in this moment For all the rest of time\")\n",
        "nova_predicao_adj(\"And I just want to hold you close I feel your heart so close to mine And just stay here in this moment For all the rest of time\")"
      ],
      "execution_count": null,
      "outputs": [
        {
          "output_type": "stream",
          "text": [
            "A classificação para RegLog com o dataframe completo foi: sadness\n",
            "\n",
            "A classificação para RegLog com o dataframe alterado foi: joy\n"
          ],
          "name": "stdout"
        }
      ]
    },
    {
      "cell_type": "code",
      "metadata": {
        "colab": {
          "base_uri": "https://localhost:8080/"
        },
        "id": "EckbLBZaEvJd",
        "outputId": "840413ea-550e-4f39-ec26-8b33dd0b0aca"
      },
      "source": [
        "#Ha Ha You're Dead - Green Day\n",
        "\n",
        "nova_predicao(\"Ha ha you're dead And I'm so happy In loving memory Of your demise\")\n",
        "nova_predicao_adj(\"Ha ha you're dead And I'm so happy In loving memory Of your demise\")"
      ],
      "execution_count": null,
      "outputs": [
        {
          "output_type": "stream",
          "text": [
            "A classificação para RegLog com o dataframe completo foi: love\n",
            "\n",
            "A classificação para RegLog com o dataframe alterado foi: joy\n"
          ],
          "name": "stdout"
        }
      ]
    },
    {
      "cell_type": "code",
      "metadata": {
        "id": "Yn2KRrrrBh6a"
      },
      "source": [
        ""
      ],
      "execution_count": null,
      "outputs": []
    },
    {
      "cell_type": "markdown",
      "metadata": {
        "id": "WCnq0XL_DxHZ"
      },
      "source": [
        "________________________________\n",
        "## _**Conclusão**_:\n",
        "\n",
        "### O modelo escolhido foi o algoritmo Logistic Regression com o dataset original.\n",
        "\n",
        "#### Comparando-se os trechos das músicas acima citados com os resultados preditos, pode-se concluir que o dataset alterado associado ao algoritmo Logistic Regression não entregou melhores resultados, sendo bem pior nas previsões que o original, apesar de maior acurácia.\n",
        "\n",
        "#### Diversas técnicas foram experimentadas, mas as que entregaram melhores resultados foram as expostas no código-fonte. Técnicas como stemização e lematização pioraram os resultados. Alterar a lista de stopwords também não melhorou o resultado. A simulação com o dataset sem alteração nas palavras abreviadas teve acurácia um pouco inferior. A alteração do dataset que melhor evoluiu o desempenho foi a remoção das entradas repetidas. Apenas este procedimento elevou a acurácia em 1 ponto.\n",
        "\n",
        "#### O baixo desempenho do modelo pode ser explicado pelo fato do dataset não possuir muitos dados e pelo fato do dataset estar cheio de gírias, abreviações, erros de grafia e muitas palavras abreviadas que não puderam ser substituídas, como por exemplo hell e shell (he'll e she'll respectivamente)."
      ]
    },
    {
      "cell_type": "code",
      "metadata": {
        "id": "BPBBQePNTvLk"
      },
      "source": [
        ""
      ],
      "execution_count": null,
      "outputs": []
    }
  ]
}